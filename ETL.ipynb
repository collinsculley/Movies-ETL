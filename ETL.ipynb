{
 "metadata": {
  "language_info": {
   "codemirror_mode": {
    "name": "ipython",
    "version": 3
   },
   "file_extension": ".py",
   "mimetype": "text/x-python",
   "name": "python",
   "nbconvert_exporter": "python",
   "pygments_lexer": "ipython3",
   "version": 3
  },
  "orig_nbformat": 2,
  "kernelspec": {
   "name": "python_defaultSpec_1595804694896",
   "display_name": "Python 3.8.3 64-bit ('PythonData': conda)"
  }
 },
 "nbformat": 4,
 "nbformat_minor": 2,
 "cells": [
  {
   "cell_type": "code",
   "execution_count": 1,
   "metadata": {},
   "outputs": [],
   "source": [
    "import json\n",
    "import pandas as pd\n",
    "import numpy as np\n",
    "import re"
   ]
  },
  {
   "cell_type": "code",
   "execution_count": 2,
   "metadata": {},
   "outputs": [],
   "source": [
    "file_dir = '/Users/collinsculley/DataAustin2020/AustinDataCamp/Week8/Movies-ETL/'"
   ]
  },
  {
   "cell_type": "code",
   "execution_count": 3,
   "metadata": {},
   "outputs": [
    {
     "output_type": "execute_result",
     "data": {
      "text/plain": "'/Users/collinsculley/DataAustin2020/AustinDataCamp/Week8/Movies-ETL/wikipedia.movies.json'"
     },
     "metadata": {},
     "execution_count": 3
    }
   ],
   "source": [
    "f'{file_dir}wikipedia.movies.json'"
   ]
  },
  {
   "cell_type": "code",
   "execution_count": 4,
   "metadata": {},
   "outputs": [],
   "source": [
    "with open(f'{file_dir}wikipedia.movies.json', mode='r') as file:\n",
    "    wiki_movies_raw = json.load(file)"
   ]
  },
  {
   "cell_type": "code",
   "execution_count": 5,
   "metadata": {},
   "outputs": [
    {
     "output_type": "execute_result",
     "data": {
      "text/plain": "7311"
     },
     "metadata": {},
     "execution_count": 5
    }
   ],
   "source": [
    "len(wiki_movies_raw)"
   ]
  },
  {
   "cell_type": "code",
   "execution_count": 6,
   "metadata": {},
   "outputs": [],
   "source": [
    "# First 5 records\n",
    "#wiki_movies_raw[:5]"
   ]
  },
  {
   "cell_type": "code",
   "execution_count": 7,
   "metadata": {},
   "outputs": [],
   "source": [
    "# Last 5 records\n",
    "#wiki_movies_raw[-5:]"
   ]
  },
  {
   "cell_type": "code",
   "execution_count": 8,
   "metadata": {},
   "outputs": [],
   "source": [
    "# Some records in the middle\n",
    "#wiki_movies_raw[3600:3605]"
   ]
  },
  {
   "cell_type": "code",
   "execution_count": 9,
   "metadata": {},
   "outputs": [],
   "source": [
    "kaggle_metadata = pd.read_csv(f'{file_dir}movies_metadata.csv')\n",
    "ratings = pd.read_csv(f'{file_dir}ratings.csv')"
   ]
  },
  {
   "cell_type": "code",
   "execution_count": 10,
   "metadata": {},
   "outputs": [],
   "source": [
    "#ratings.sample(n=5)"
   ]
  },
  {
   "cell_type": "code",
   "execution_count": 11,
   "metadata": {},
   "outputs": [],
   "source": [
    "#kaggle_metadata.sample(n=5)"
   ]
  },
  {
   "cell_type": "code",
   "execution_count": 12,
   "metadata": {},
   "outputs": [],
   "source": [
    "wiki_movies_df = pd.DataFrame(wiki_movies_raw)"
   ]
  },
  {
   "cell_type": "code",
   "execution_count": 13,
   "metadata": {},
   "outputs": [
    {
     "output_type": "execute_result",
     "data": {
      "text/plain": "                                                 url    year  \\\n0  https://en.wikipedia.org/wiki/The_Adventures_o...  1990.0   \n1  https://en.wikipedia.org/wiki/After_Dark,_My_S...  1990.0   \n2   https://en.wikipedia.org/wiki/Air_America_(film)  1990.0   \n3    https://en.wikipedia.org/wiki/Alice_(1990_film)  1990.0   \n4      https://en.wikipedia.org/wiki/Almost_an_Angel  1990.0   \n\n                               imdb_link                            title  \\\n0  https://www.imdb.com/title/tt0098987/  The Adventures of Ford Fairlane   \n1  https://www.imdb.com/title/tt0098994/             After Dark, My Sweet   \n2  https://www.imdb.com/title/tt0099005/                      Air America   \n3  https://www.imdb.com/title/tt0099012/                            Alice   \n4  https://www.imdb.com/title/tt0099018/                  Almost an Angel   \n\n          Directed by                  Produced by  \\\n0        Renny Harlin   [Steve Perry, Joel Silver]   \n1         James Foley  [Ric Kidney, Robert Redlin]   \n2  Roger Spottiswoode               Daniel Melnick   \n3         Woody Allen              Robert Greenhut   \n4        John Cornell                 John Cornell   \n\n                                Screenplay by                     Story by  \\\n0  [David Arnott, James Cappe, Daniel Waters]  [David Arnott, James Cappe]   \n1                [James Foley, Robert Redlin]                          NaN   \n2                  [John Eskow, Richard Rush]                          NaN   \n3                                         NaN                          NaN   \n4                                         NaN                          NaN   \n\n                                            Based on  \\\n0                        [Characters, by Rex Weiner]   \n1  [the novel, After Dark, My Sweet, by, Jim Thom...   \n2             [Air America, by, Christopher Robbins]   \n3                                                NaN   \n4                                                NaN   \n\n                                            Starring  ... Predecessor  \\\n0  [Andrew Dice Clay, Wayne Newton, Priscilla Pre...  ...         NaN   \n1  [Jason Patric, Rachel Ward, Bruce Dern, George...  ...         NaN   \n2  [Mel Gibson, Robert Downey Jr., Nancy Travis, ...  ...         NaN   \n3  [Alec Baldwin, Blythe Danner, Judy Davis, Mia ...  ...         NaN   \n4        [Paul Hogan, Elias Koteas, Linda Kozlowski]  ...         NaN   \n\n  Founders Area served Products Services Russian Hebrew Revenue  \\\n0      NaN         NaN      NaN      NaN     NaN    NaN     NaN   \n1      NaN         NaN      NaN      NaN     NaN    NaN     NaN   \n2      NaN         NaN      NaN      NaN     NaN    NaN     NaN   \n3      NaN         NaN      NaN      NaN     NaN    NaN     NaN   \n4      NaN         NaN      NaN      NaN     NaN    NaN     NaN   \n\n  Operating income Polish  \n0              NaN    NaN  \n1              NaN    NaN  \n2              NaN    NaN  \n3              NaN    NaN  \n4              NaN    NaN  \n\n[5 rows x 193 columns]",
      "text/html": "<div>\n<style scoped>\n    .dataframe tbody tr th:only-of-type {\n        vertical-align: middle;\n    }\n\n    .dataframe tbody tr th {\n        vertical-align: top;\n    }\n\n    .dataframe thead th {\n        text-align: right;\n    }\n</style>\n<table border=\"1\" class=\"dataframe\">\n  <thead>\n    <tr style=\"text-align: right;\">\n      <th></th>\n      <th>url</th>\n      <th>year</th>\n      <th>imdb_link</th>\n      <th>title</th>\n      <th>Directed by</th>\n      <th>Produced by</th>\n      <th>Screenplay by</th>\n      <th>Story by</th>\n      <th>Based on</th>\n      <th>Starring</th>\n      <th>...</th>\n      <th>Predecessor</th>\n      <th>Founders</th>\n      <th>Area served</th>\n      <th>Products</th>\n      <th>Services</th>\n      <th>Russian</th>\n      <th>Hebrew</th>\n      <th>Revenue</th>\n      <th>Operating income</th>\n      <th>Polish</th>\n    </tr>\n  </thead>\n  <tbody>\n    <tr>\n      <th>0</th>\n      <td>https://en.wikipedia.org/wiki/The_Adventures_o...</td>\n      <td>1990.0</td>\n      <td>https://www.imdb.com/title/tt0098987/</td>\n      <td>The Adventures of Ford Fairlane</td>\n      <td>Renny Harlin</td>\n      <td>[Steve Perry, Joel Silver]</td>\n      <td>[David Arnott, James Cappe, Daniel Waters]</td>\n      <td>[David Arnott, James Cappe]</td>\n      <td>[Characters, by Rex Weiner]</td>\n      <td>[Andrew Dice Clay, Wayne Newton, Priscilla Pre...</td>\n      <td>...</td>\n      <td>NaN</td>\n      <td>NaN</td>\n      <td>NaN</td>\n      <td>NaN</td>\n      <td>NaN</td>\n      <td>NaN</td>\n      <td>NaN</td>\n      <td>NaN</td>\n      <td>NaN</td>\n      <td>NaN</td>\n    </tr>\n    <tr>\n      <th>1</th>\n      <td>https://en.wikipedia.org/wiki/After_Dark,_My_S...</td>\n      <td>1990.0</td>\n      <td>https://www.imdb.com/title/tt0098994/</td>\n      <td>After Dark, My Sweet</td>\n      <td>James Foley</td>\n      <td>[Ric Kidney, Robert Redlin]</td>\n      <td>[James Foley, Robert Redlin]</td>\n      <td>NaN</td>\n      <td>[the novel, After Dark, My Sweet, by, Jim Thom...</td>\n      <td>[Jason Patric, Rachel Ward, Bruce Dern, George...</td>\n      <td>...</td>\n      <td>NaN</td>\n      <td>NaN</td>\n      <td>NaN</td>\n      <td>NaN</td>\n      <td>NaN</td>\n      <td>NaN</td>\n      <td>NaN</td>\n      <td>NaN</td>\n      <td>NaN</td>\n      <td>NaN</td>\n    </tr>\n    <tr>\n      <th>2</th>\n      <td>https://en.wikipedia.org/wiki/Air_America_(film)</td>\n      <td>1990.0</td>\n      <td>https://www.imdb.com/title/tt0099005/</td>\n      <td>Air America</td>\n      <td>Roger Spottiswoode</td>\n      <td>Daniel Melnick</td>\n      <td>[John Eskow, Richard Rush]</td>\n      <td>NaN</td>\n      <td>[Air America, by, Christopher Robbins]</td>\n      <td>[Mel Gibson, Robert Downey Jr., Nancy Travis, ...</td>\n      <td>...</td>\n      <td>NaN</td>\n      <td>NaN</td>\n      <td>NaN</td>\n      <td>NaN</td>\n      <td>NaN</td>\n      <td>NaN</td>\n      <td>NaN</td>\n      <td>NaN</td>\n      <td>NaN</td>\n      <td>NaN</td>\n    </tr>\n    <tr>\n      <th>3</th>\n      <td>https://en.wikipedia.org/wiki/Alice_(1990_film)</td>\n      <td>1990.0</td>\n      <td>https://www.imdb.com/title/tt0099012/</td>\n      <td>Alice</td>\n      <td>Woody Allen</td>\n      <td>Robert Greenhut</td>\n      <td>NaN</td>\n      <td>NaN</td>\n      <td>NaN</td>\n      <td>[Alec Baldwin, Blythe Danner, Judy Davis, Mia ...</td>\n      <td>...</td>\n      <td>NaN</td>\n      <td>NaN</td>\n      <td>NaN</td>\n      <td>NaN</td>\n      <td>NaN</td>\n      <td>NaN</td>\n      <td>NaN</td>\n      <td>NaN</td>\n      <td>NaN</td>\n      <td>NaN</td>\n    </tr>\n    <tr>\n      <th>4</th>\n      <td>https://en.wikipedia.org/wiki/Almost_an_Angel</td>\n      <td>1990.0</td>\n      <td>https://www.imdb.com/title/tt0099018/</td>\n      <td>Almost an Angel</td>\n      <td>John Cornell</td>\n      <td>John Cornell</td>\n      <td>NaN</td>\n      <td>NaN</td>\n      <td>NaN</td>\n      <td>[Paul Hogan, Elias Koteas, Linda Kozlowski]</td>\n      <td>...</td>\n      <td>NaN</td>\n      <td>NaN</td>\n      <td>NaN</td>\n      <td>NaN</td>\n      <td>NaN</td>\n      <td>NaN</td>\n      <td>NaN</td>\n      <td>NaN</td>\n      <td>NaN</td>\n      <td>NaN</td>\n    </tr>\n  </tbody>\n</table>\n<p>5 rows × 193 columns</p>\n</div>"
     },
     "metadata": {},
     "execution_count": 13
    }
   ],
   "source": [
    "wiki_movies_df.head()"
   ]
  },
  {
   "cell_type": "code",
   "execution_count": 14,
   "metadata": {},
   "outputs": [
    {
     "output_type": "execute_result",
     "data": {
      "text/plain": "['url',\n 'year',\n 'imdb_link',\n 'title',\n 'Directed by',\n 'Produced by',\n 'Screenplay by',\n 'Story by',\n 'Based on',\n 'Starring',\n 'Narrated by',\n 'Music by',\n 'Cinematography',\n 'Edited by',\n 'Productioncompany ',\n 'Distributed by',\n 'Release date',\n 'Running time',\n 'Country',\n 'Language',\n 'Budget',\n 'Box office',\n 'Written by',\n 'Genre',\n 'Theme music composer',\n 'Country of origin',\n 'Original language(s)',\n 'Producer(s)',\n 'Editor(s)',\n 'Production company(s)',\n 'Original network',\n 'Original release',\n 'Productioncompanies ',\n 'Executive producer(s)',\n 'Production location(s)',\n 'Distributor',\n 'Picture format',\n 'Audio format',\n 'Voices of',\n 'Followed by',\n 'Composer(s)',\n 'Created by',\n 'Also known as',\n 'Opening theme',\n 'No. of episodes',\n 'Preceded by',\n 'Author',\n 'Publisher',\n 'Publication date',\n 'Media type',\n 'Pages',\n 'ISBN',\n 'OCLC',\n 'LC Class',\n 'Cover artist',\n 'Series',\n 'Set in',\n 'Adaptation by',\n 'Suggested by',\n 'Biographical data',\n 'Born',\n 'Died',\n 'Resting place',\n 'Occupation',\n 'Years active',\n 'Spouse(s)',\n 'Children',\n 'Parent(s)',\n 'Genres',\n 'Instruments',\n 'Labels',\n 'Website',\n 'Traditional',\n 'Mandarin',\n 'Type',\n 'Industry',\n 'Fate',\n 'Founded',\n 'Founder',\n 'Headquarters',\n 'Parent',\n 'Released',\n 'Recorded',\n 'Venue',\n 'Length',\n 'Label',\n 'Director',\n 'Producer',\n 'Area',\n 'Coordinates',\n 'Status',\n 'Opening date',\n 'Closing date',\n 'Replaced',\n 'Replaced by',\n 'Name',\n 'Attraction type',\n 'Music',\n 'Duration',\n 'Simplified Chinese',\n 'Traditional Chinese',\n 'Hanyu Pinyin',\n 'Literal meaning',\n 'Transcriptions',\n 'Bopomofo',\n 'Gwoyeu Romatzyh',\n 'Wade–Giles',\n 'IPA',\n 'Yale Romanization',\n 'Jyutping',\n 'Hokkien POJ',\n 'Animation by',\n 'Color process',\n 'Engine(s)',\n 'Genre(s)',\n 'Actor control',\n 'Production company',\n 'Release(s)',\n 'Format(s)',\n 'Simplified',\n 'Characters',\n 'Date premiered',\n 'Place premiered',\n 'Setting',\n 'Original language',\n 'Subject',\n 'Published',\n 'Dewey Decimal',\n 'Text',\n 'Illustrator',\n 'Original title',\n 'Published in English',\n 'French',\n 'Developed by',\n 'Ending theme',\n 'No. of seasons',\n 'Nationality',\n 'Portrayed by',\n 'Alias',\n 'Species',\n 'Gender',\n 'Family',\n 'Alma mater',\n 'Camera setup',\n 'Novel(s)',\n 'Comics',\n 'Film(s)',\n 'Screen story by',\n 'Hangul',\n 'Revised Romanization',\n 'McCune–Reischauer',\n 'Developer(s)',\n 'Publisher(s)',\n 'Designer(s)',\n 'Programmer(s)',\n 'Artist(s)',\n 'Writer(s)',\n 'Engine',\n 'Platform(s)',\n 'Release',\n 'Mode(s)',\n 'Original work',\n 'Television series',\n 'Japanese',\n 'Hepburn',\n 'Literally',\n 'Cantonese',\n 'Full name',\n 'Height',\n 'Seasons',\n 'Chinese',\n 'Other names',\n 'Relatives',\n 'Yiddish',\n 'Formerly',\n 'Key people',\n 'Total assets',\n 'Owner',\n 'Number of employees',\n 'Divisions',\n 'Subsidiaries',\n 'Arabic',\n 'Romanized',\n 'Predecessor',\n 'Founders',\n 'Area served',\n 'Products',\n 'Services',\n 'Russian',\n 'Hebrew',\n 'Revenue',\n 'Operating income',\n 'Polish']"
     },
     "metadata": {},
     "execution_count": 14
    }
   ],
   "source": [
    "wiki_movies_df.columns.tolist()"
   ]
  },
  {
   "cell_type": "code",
   "execution_count": 15,
   "metadata": {},
   "outputs": [
    {
     "output_type": "execute_result",
     "data": {
      "text/plain": "7076"
     },
     "metadata": {},
     "execution_count": 15
    }
   ],
   "source": [
    "wiki_movies = [movie for movie in wiki_movies_raw\n",
    "    if ('Director' in movie or 'Directed by' in movie)\n",
    "        and 'imdb_link' in movie\n",
    "        and 'No. of episodes' not in movie]\n",
    "len(wiki_movies)"
   ]
  },
  {
   "cell_type": "code",
   "execution_count": 16,
   "metadata": {},
   "outputs": [],
   "source": [
    "wiki_movies_df = pd.DataFrame(wiki_movies)"
   ]
  },
  {
   "cell_type": "code",
   "execution_count": 17,
   "metadata": {},
   "outputs": [
    {
     "output_type": "execute_result",
     "data": {
      "text/plain": "                                                  url  year  \\\n6834  https://en.wikipedia.org/wiki/The_Insult_(film)  2018   \n7058   https://en.wikipedia.org/wiki/Capernaum_(film)  2018   \n\n                                  imdb_link       title    Directed by  \\\n6834  https://www.imdb.com/title/tt7048622/  The Insult   Ziad Doueiri   \n7058  https://www.imdb.com/title/tt8267604/   Capernaum  Nadine Labaki   \n\n                                            Produced by  \\\n6834  [Rachid Bouchareb, Jean Bréhat, Julie Gayet, A...   \n7058                    [Michel Merkt, Khaled Mouzanar]   \n\n                                          Screenplay by  \\\n6834                                                NaN   \n7058  [Nadine Labaki, Jihad Hojaily, Michelle Keserw...   \n\n                                               Story by Based on  \\\n6834                                                NaN      NaN   \n7058  [Georges Khabbaz, Nadine Labaki, Michelle Kese...      NaN   \n\n                                               Starring  ... Hepburn  \\\n6834                       [Adel Karam, Kamel El Basha]  ...     NaN   \n7058  [Zain Al Rafeea, Yordanos Shiferaw, Boluwatife...  ...     NaN   \n\n        Literally Cantonese Chinese Yiddish       Arabic        Romanized  \\\n6834  Case No. 23       NaN     NaN     NaN  قضية رقم ٢٣  Qadiyya raqm 23   \n7058          NaN       NaN     NaN     NaN    کفرناحوم‎              NaN   \n\n     Russian Hebrew Polish  \n6834     NaN    NaN    NaN  \n7058     NaN    NaN    NaN  \n\n[2 rows x 75 columns]",
      "text/html": "<div>\n<style scoped>\n    .dataframe tbody tr th:only-of-type {\n        vertical-align: middle;\n    }\n\n    .dataframe tbody tr th {\n        vertical-align: top;\n    }\n\n    .dataframe thead th {\n        text-align: right;\n    }\n</style>\n<table border=\"1\" class=\"dataframe\">\n  <thead>\n    <tr style=\"text-align: right;\">\n      <th></th>\n      <th>url</th>\n      <th>year</th>\n      <th>imdb_link</th>\n      <th>title</th>\n      <th>Directed by</th>\n      <th>Produced by</th>\n      <th>Screenplay by</th>\n      <th>Story by</th>\n      <th>Based on</th>\n      <th>Starring</th>\n      <th>...</th>\n      <th>Hepburn</th>\n      <th>Literally</th>\n      <th>Cantonese</th>\n      <th>Chinese</th>\n      <th>Yiddish</th>\n      <th>Arabic</th>\n      <th>Romanized</th>\n      <th>Russian</th>\n      <th>Hebrew</th>\n      <th>Polish</th>\n    </tr>\n  </thead>\n  <tbody>\n    <tr>\n      <th>6834</th>\n      <td>https://en.wikipedia.org/wiki/The_Insult_(film)</td>\n      <td>2018</td>\n      <td>https://www.imdb.com/title/tt7048622/</td>\n      <td>The Insult</td>\n      <td>Ziad Doueiri</td>\n      <td>[Rachid Bouchareb, Jean Bréhat, Julie Gayet, A...</td>\n      <td>NaN</td>\n      <td>NaN</td>\n      <td>NaN</td>\n      <td>[Adel Karam, Kamel El Basha]</td>\n      <td>...</td>\n      <td>NaN</td>\n      <td>Case No. 23</td>\n      <td>NaN</td>\n      <td>NaN</td>\n      <td>NaN</td>\n      <td>قضية رقم ٢٣</td>\n      <td>Qadiyya raqm 23</td>\n      <td>NaN</td>\n      <td>NaN</td>\n      <td>NaN</td>\n    </tr>\n    <tr>\n      <th>7058</th>\n      <td>https://en.wikipedia.org/wiki/Capernaum_(film)</td>\n      <td>2018</td>\n      <td>https://www.imdb.com/title/tt8267604/</td>\n      <td>Capernaum</td>\n      <td>Nadine Labaki</td>\n      <td>[Michel Merkt, Khaled Mouzanar]</td>\n      <td>[Nadine Labaki, Jihad Hojaily, Michelle Keserw...</td>\n      <td>[Georges Khabbaz, Nadine Labaki, Michelle Kese...</td>\n      <td>NaN</td>\n      <td>[Zain Al Rafeea, Yordanos Shiferaw, Boluwatife...</td>\n      <td>...</td>\n      <td>NaN</td>\n      <td>NaN</td>\n      <td>NaN</td>\n      <td>NaN</td>\n      <td>NaN</td>\n      <td>کفرناحوم‎</td>\n      <td>NaN</td>\n      <td>NaN</td>\n      <td>NaN</td>\n      <td>NaN</td>\n    </tr>\n  </tbody>\n</table>\n<p>2 rows × 75 columns</p>\n</div>"
     },
     "metadata": {},
     "execution_count": 17
    }
   ],
   "source": [
    "wiki_movies_df[wiki_movies_df['Arabic'].notnull()]"
   ]
  },
  {
   "cell_type": "code",
   "execution_count": 18,
   "metadata": {},
   "outputs": [
    {
     "output_type": "execute_result",
     "data": {
      "text/plain": "6834    https://en.wikipedia.org/wiki/The_Insult_(film)\n7058     https://en.wikipedia.org/wiki/Capernaum_(film)\nName: url, dtype: object"
     },
     "metadata": {},
     "execution_count": 18
    }
   ],
   "source": [
    "wiki_movies_df[wiki_movies_df['Arabic'].notnull()]['url']"
   ]
  },
  {
   "cell_type": "code",
   "execution_count": 19,
   "metadata": {},
   "outputs": [],
   "source": [
    "def clean_movie(movie):\n",
    "    movie = dict(movie) #create a non-destructive copy\n",
    "    alt_titles = {}\n",
    "    # combine alternate titles into one list\n",
    "    for key in ['Also known as','Arabic','Cantonese','Chinese','French',\n",
    "                'Hangul','Hebrew','Hepburn','Japanese','Literally',\n",
    "                'Mandarin','McCune-Reischauer','Original title','Polish',\n",
    "                'Revised Romanization','Romanized','Russian',\n",
    "                'Simplified','Traditional','Yiddish']:\n",
    "        if key in movie:\n",
    "            alt_titles[key] = movie[key]\n",
    "            movie.pop(key)\n",
    "    if len(alt_titles) > 0:\n",
    "        movie['alt_titles'] = alt_titles\n",
    "\n",
    "    # merge column names\n",
    "    def change_column_name(old_name, new_name):\n",
    "        if old_name in movie:\n",
    "            movie[new_name] = movie.pop(old_name)\n",
    "    change_column_name('Adaptation by', 'Writer(s)')\n",
    "    change_column_name('Country of origin', 'Country')\n",
    "    change_column_name('Directed by', 'Director')\n",
    "    change_column_name('Distributed by', 'Distributor')\n",
    "    change_column_name('Edited by', 'Editor(s)')\n",
    "    change_column_name('Length', 'Running time')\n",
    "    change_column_name('Original release', 'Release date')\n",
    "    change_column_name('Music by', 'Composer(s)')\n",
    "    change_column_name('Produced by', 'Producer(s)')\n",
    "    change_column_name('Producer', 'Producer(s)')\n",
    "    change_column_name('Productioncompanies ', 'Production company(s)')\n",
    "    change_column_name('Productioncompany ', 'Production company(s)')\n",
    "    change_column_name('Released', 'Release Date')\n",
    "    change_column_name('Release Date', 'Release date')\n",
    "    change_column_name('Screen story by', 'Writer(s)')\n",
    "    change_column_name('Screenplay by', 'Writer(s)')\n",
    "    change_column_name('Story by', 'Writer(s)')\n",
    "    change_column_name('Theme music composer', 'Composer(s)')\n",
    "    change_column_name('Written by', 'Writer(s)')\n",
    "\n",
    "    return movie"
   ]
  },
  {
   "cell_type": "code",
   "execution_count": 20,
   "metadata": {},
   "outputs": [],
   "source": [
    "clean_movies = [clean_movie(movie) for movie in wiki_movies]\n",
    "wiki_movies_df = pd.DataFrame(clean_movies)"
   ]
  },
  {
   "cell_type": "code",
   "execution_count": 21,
   "metadata": {},
   "outputs": [
    {
     "output_type": "execute_result",
     "data": {
      "text/plain": "['Animation by',\n 'Audio format',\n 'Based on',\n 'Box office',\n 'Budget',\n 'Cinematography',\n 'Color process',\n 'Composer(s)',\n 'Country',\n 'Created by',\n 'Director',\n 'Distributor',\n 'Editor(s)',\n 'Executive producer(s)',\n 'Followed by',\n 'Genre',\n 'Label',\n 'Language',\n 'McCune–Reischauer',\n 'Narrated by',\n 'Original language(s)',\n 'Original network',\n 'Picture format',\n 'Preceded by',\n 'Producer(s)',\n 'Production company(s)',\n 'Production location(s)',\n 'Recorded',\n 'Release date',\n 'Running time',\n 'Starring',\n 'Suggested by',\n 'Venue',\n 'Voices of',\n 'Writer(s)',\n 'alt_titles',\n 'imdb_link',\n 'title',\n 'url',\n 'year']"
     },
     "metadata": {},
     "execution_count": 21
    }
   ],
   "source": [
    "wiki_movies_df = pd.DataFrame(clean_movies)\n",
    "sorted(wiki_movies_df.columns.tolist())"
   ]
  },
  {
   "cell_type": "code",
   "execution_count": 22,
   "metadata": {},
   "outputs": [
    {
     "output_type": "execute_result",
     "data": {
      "text/plain": "                                                 url  year  \\\n0  https://en.wikipedia.org/wiki/The_Adventures_o...  1990   \n1  https://en.wikipedia.org/wiki/After_Dark,_My_S...  1990   \n2   https://en.wikipedia.org/wiki/Air_America_(film)  1990   \n3    https://en.wikipedia.org/wiki/Alice_(1990_film)  1990   \n4      https://en.wikipedia.org/wiki/Almost_an_Angel  1990   \n\n                               imdb_link                            title  \\\n0  https://www.imdb.com/title/tt0098987/  The Adventures of Ford Fairlane   \n1  https://www.imdb.com/title/tt0098994/             After Dark, My Sweet   \n2  https://www.imdb.com/title/tt0099005/                      Air America   \n3  https://www.imdb.com/title/tt0099012/                            Alice   \n4  https://www.imdb.com/title/tt0099018/                  Almost an Angel   \n\n                                            Based on  \\\n0                        [Characters, by Rex Weiner]   \n1  [the novel, After Dark, My Sweet, by, Jim Thom...   \n2             [Air America, by, Christopher Robbins]   \n3                                                NaN   \n4                                                NaN   \n\n                                            Starring         Narrated by  \\\n0  [Andrew Dice Clay, Wayne Newton, Priscilla Pre...  Andrew \"Dice\" Clay   \n1  [Jason Patric, Rachel Ward, Bruce Dern, George...                 NaN   \n2  [Mel Gibson, Robert Downey Jr., Nancy Travis, ...                 NaN   \n3  [Alec Baldwin, Blythe Danner, Judy Davis, Mia ...                 NaN   \n4        [Paul Hogan, Elias Koteas, Linda Kozlowski]                 NaN   \n\n   Cinematography                                       Release date  \\\n0     Oliver Wood                  [July 11, 1990, (, 1990-07-11, )]   \n1    Mark Plummer  [May 17, 1990, (, 1990-05-17, ), (Cannes Film ...   \n2   Roger Deakins                [August 10, 1990, (, 1990-08-10, )]   \n3  Carlo Di Palma              [December 25, 1990, (, 1990-12-25, )]   \n4    Russell Boyd                                  December 19, 1990   \n\n  Running time  ... Preceded by Suggested by alt_titles Recorded Venue Label  \\\n0  102 minutes  ...         NaN          NaN        NaN      NaN   NaN   NaN   \n1  114 minutes  ...         NaN          NaN        NaN      NaN   NaN   NaN   \n2  113 minutes  ...         NaN          NaN        NaN      NaN   NaN   NaN   \n3  106 minutes  ...         NaN          NaN        NaN      NaN   NaN   NaN   \n4   95 minutes  ...         NaN          NaN        NaN      NaN   NaN   NaN   \n\n  Animation by Color process McCune–Reischauer    imdb_id  \n0          NaN           NaN               NaN  tt0098987  \n1          NaN           NaN               NaN  tt0098994  \n2          NaN           NaN               NaN  tt0099005  \n3          NaN           NaN               NaN  tt0099012  \n4          NaN           NaN               NaN  tt0099018  \n\n[5 rows x 41 columns]",
      "text/html": "<div>\n<style scoped>\n    .dataframe tbody tr th:only-of-type {\n        vertical-align: middle;\n    }\n\n    .dataframe tbody tr th {\n        vertical-align: top;\n    }\n\n    .dataframe thead th {\n        text-align: right;\n    }\n</style>\n<table border=\"1\" class=\"dataframe\">\n  <thead>\n    <tr style=\"text-align: right;\">\n      <th></th>\n      <th>url</th>\n      <th>year</th>\n      <th>imdb_link</th>\n      <th>title</th>\n      <th>Based on</th>\n      <th>Starring</th>\n      <th>Narrated by</th>\n      <th>Cinematography</th>\n      <th>Release date</th>\n      <th>Running time</th>\n      <th>...</th>\n      <th>Preceded by</th>\n      <th>Suggested by</th>\n      <th>alt_titles</th>\n      <th>Recorded</th>\n      <th>Venue</th>\n      <th>Label</th>\n      <th>Animation by</th>\n      <th>Color process</th>\n      <th>McCune–Reischauer</th>\n      <th>imdb_id</th>\n    </tr>\n  </thead>\n  <tbody>\n    <tr>\n      <th>0</th>\n      <td>https://en.wikipedia.org/wiki/The_Adventures_o...</td>\n      <td>1990</td>\n      <td>https://www.imdb.com/title/tt0098987/</td>\n      <td>The Adventures of Ford Fairlane</td>\n      <td>[Characters, by Rex Weiner]</td>\n      <td>[Andrew Dice Clay, Wayne Newton, Priscilla Pre...</td>\n      <td>Andrew \"Dice\" Clay</td>\n      <td>Oliver Wood</td>\n      <td>[July 11, 1990, (, 1990-07-11, )]</td>\n      <td>102 minutes</td>\n      <td>...</td>\n      <td>NaN</td>\n      <td>NaN</td>\n      <td>NaN</td>\n      <td>NaN</td>\n      <td>NaN</td>\n      <td>NaN</td>\n      <td>NaN</td>\n      <td>NaN</td>\n      <td>NaN</td>\n      <td>tt0098987</td>\n    </tr>\n    <tr>\n      <th>1</th>\n      <td>https://en.wikipedia.org/wiki/After_Dark,_My_S...</td>\n      <td>1990</td>\n      <td>https://www.imdb.com/title/tt0098994/</td>\n      <td>After Dark, My Sweet</td>\n      <td>[the novel, After Dark, My Sweet, by, Jim Thom...</td>\n      <td>[Jason Patric, Rachel Ward, Bruce Dern, George...</td>\n      <td>NaN</td>\n      <td>Mark Plummer</td>\n      <td>[May 17, 1990, (, 1990-05-17, ), (Cannes Film ...</td>\n      <td>114 minutes</td>\n      <td>...</td>\n      <td>NaN</td>\n      <td>NaN</td>\n      <td>NaN</td>\n      <td>NaN</td>\n      <td>NaN</td>\n      <td>NaN</td>\n      <td>NaN</td>\n      <td>NaN</td>\n      <td>NaN</td>\n      <td>tt0098994</td>\n    </tr>\n    <tr>\n      <th>2</th>\n      <td>https://en.wikipedia.org/wiki/Air_America_(film)</td>\n      <td>1990</td>\n      <td>https://www.imdb.com/title/tt0099005/</td>\n      <td>Air America</td>\n      <td>[Air America, by, Christopher Robbins]</td>\n      <td>[Mel Gibson, Robert Downey Jr., Nancy Travis, ...</td>\n      <td>NaN</td>\n      <td>Roger Deakins</td>\n      <td>[August 10, 1990, (, 1990-08-10, )]</td>\n      <td>113 minutes</td>\n      <td>...</td>\n      <td>NaN</td>\n      <td>NaN</td>\n      <td>NaN</td>\n      <td>NaN</td>\n      <td>NaN</td>\n      <td>NaN</td>\n      <td>NaN</td>\n      <td>NaN</td>\n      <td>NaN</td>\n      <td>tt0099005</td>\n    </tr>\n    <tr>\n      <th>3</th>\n      <td>https://en.wikipedia.org/wiki/Alice_(1990_film)</td>\n      <td>1990</td>\n      <td>https://www.imdb.com/title/tt0099012/</td>\n      <td>Alice</td>\n      <td>NaN</td>\n      <td>[Alec Baldwin, Blythe Danner, Judy Davis, Mia ...</td>\n      <td>NaN</td>\n      <td>Carlo Di Palma</td>\n      <td>[December 25, 1990, (, 1990-12-25, )]</td>\n      <td>106 minutes</td>\n      <td>...</td>\n      <td>NaN</td>\n      <td>NaN</td>\n      <td>NaN</td>\n      <td>NaN</td>\n      <td>NaN</td>\n      <td>NaN</td>\n      <td>NaN</td>\n      <td>NaN</td>\n      <td>NaN</td>\n      <td>tt0099012</td>\n    </tr>\n    <tr>\n      <th>4</th>\n      <td>https://en.wikipedia.org/wiki/Almost_an_Angel</td>\n      <td>1990</td>\n      <td>https://www.imdb.com/title/tt0099018/</td>\n      <td>Almost an Angel</td>\n      <td>NaN</td>\n      <td>[Paul Hogan, Elias Koteas, Linda Kozlowski]</td>\n      <td>NaN</td>\n      <td>Russell Boyd</td>\n      <td>December 19, 1990</td>\n      <td>95 minutes</td>\n      <td>...</td>\n      <td>NaN</td>\n      <td>NaN</td>\n      <td>NaN</td>\n      <td>NaN</td>\n      <td>NaN</td>\n      <td>NaN</td>\n      <td>NaN</td>\n      <td>NaN</td>\n      <td>NaN</td>\n      <td>tt0099018</td>\n    </tr>\n  </tbody>\n</table>\n<p>5 rows × 41 columns</p>\n</div>"
     },
     "metadata": {},
     "execution_count": 22
    }
   ],
   "source": [
    "wiki_movies_df['imdb_id'] = wiki_movies_df['imdb_link'].str.extract(r'(tt\\d{7})')\n",
    "len(wiki_movies_df)\n",
    "wiki_movies_df.drop_duplicates(subset='imdb_id', inplace=True)\n",
    "wiki_movies_df.head()"
   ]
  },
  {
   "cell_type": "code",
   "execution_count": 23,
   "metadata": {},
   "outputs": [
    {
     "output_type": "execute_result",
     "data": {
      "text/plain": "[['url', 0],\n ['year', 0],\n ['imdb_link', 0],\n ['title', 1],\n ['Based on', 4852],\n ['Starring', 184],\n ['Narrated by', 6752],\n ['Cinematography', 691],\n ['Release date', 32],\n ['Running time', 139],\n ['Country', 236],\n ['Language', 244],\n ['Budget', 2295],\n ['Box office', 1548],\n ['Director', 0],\n ['Distributor', 357],\n ['Editor(s)', 548],\n ['Composer(s)', 518],\n ['Producer(s)', 202],\n ['Production company(s)', 1678],\n ['Writer(s)', 199],\n ['Genre', 6923],\n ['Original language(s)', 6875],\n ['Original network', 6908],\n ['Executive producer(s)', 6936],\n ['Production location(s)', 6986],\n ['Picture format', 6969],\n ['Audio format', 6972],\n ['Voices of', 7031],\n ['Followed by', 7024],\n ['Created by', 7023],\n ['Preceded by', 7023],\n ['Suggested by', 7032],\n ['alt_titles', 7012],\n ['Recorded', 7031],\n ['Venue', 7032],\n ['Label', 7031],\n ['Animation by', 7031],\n ['Color process', 7032],\n ['McCune–Reischauer', 7031],\n ['imdb_id', 0]]"
     },
     "metadata": {},
     "execution_count": 23
    }
   ],
   "source": [
    "[[column,wiki_movies_df[column].isnull().sum()] for column in wiki_movies_df.columns]"
   ]
  },
  {
   "cell_type": "code",
   "execution_count": 24,
   "metadata": {},
   "outputs": [],
   "source": [
    "wiki_columns_to_keep = [column for column in wiki_movies_df.columns if wiki_movies_df[column].isnull().sum() < len(wiki_movies_df) * 0.9]\n",
    "wiki_movies_df = wiki_movies_df[wiki_columns_to_keep]"
   ]
  },
  {
   "cell_type": "code",
   "execution_count": 25,
   "metadata": {},
   "outputs": [
    {
     "output_type": "execute_result",
     "data": {
      "text/plain": "url                      object\nyear                      int64\nimdb_link                object\ntitle                    object\nBased on                 object\nStarring                 object\nCinematography           object\nRelease date             object\nRunning time             object\nCountry                  object\nLanguage                 object\nBudget                   object\nBox office               object\nDirector                 object\nDistributor              object\nEditor(s)                object\nComposer(s)              object\nProducer(s)              object\nProduction company(s)    object\nWriter(s)                object\nimdb_id                  object\ndtype: object"
     },
     "metadata": {},
     "execution_count": 25
    }
   ],
   "source": [
    "wiki_movies_df.dtypes"
   ]
  },
  {
   "cell_type": "code",
   "execution_count": 26,
   "metadata": {},
   "outputs": [],
   "source": [
    "box_office = wiki_movies_df['Box office'].dropna() "
   ]
  },
  {
   "cell_type": "code",
   "execution_count": 27,
   "metadata": {},
   "outputs": [
    {
     "output_type": "execute_result",
     "data": {
      "text/plain": "34                           [US$, 4,212,828]\n54      [$6,698,361 (, United States, ), [2]]\n74                    [$6,488,144, (US), [1]]\n126                [US$1,531,489, (domestic)]\n130                          [US$, 4,803,039]\n                        ...                  \n6980               [$99.6, million, [4], [5]]\n6994                   [$365.6, million, [1]]\n6995                         [$53.8, million]\n7015                     [$435, million, [7]]\n7048                   [$529.3, million, [4]]\nName: Box office, Length: 135, dtype: object"
     },
     "metadata": {},
     "execution_count": 27
    }
   ],
   "source": [
    "def is_not_a_string(x):\n",
    "    return type(x) != str\n",
    "box_office[box_office.map(is_not_a_string)]"
   ]
  },
  {
   "cell_type": "code",
   "execution_count": 28,
   "metadata": {},
   "outputs": [
    {
     "output_type": "execute_result",
     "data": {
      "text/plain": "34                           [US$, 4,212,828]\n54      [$6,698,361 (, United States, ), [2]]\n74                    [$6,488,144, (US), [1]]\n126                [US$1,531,489, (domestic)]\n130                          [US$, 4,803,039]\n                        ...                  \n6980               [$99.6, million, [4], [5]]\n6994                   [$365.6, million, [1]]\n6995                         [$53.8, million]\n7015                     [$435, million, [7]]\n7048                   [$529.3, million, [4]]\nName: Box office, Length: 135, dtype: object"
     },
     "metadata": {},
     "execution_count": 28
    }
   ],
   "source": [
    "box_office[box_office.map(lambda x: type(x) != str)]"
   ]
  },
  {
   "cell_type": "code",
   "execution_count": 29,
   "metadata": {},
   "outputs": [],
   "source": [
    "box_office = box_office.apply(lambda x: ' '.join(x) if type(x) == list else x)"
   ]
  },
  {
   "cell_type": "code",
   "execution_count": 30,
   "metadata": {},
   "outputs": [
    {
     "output_type": "execute_result",
     "data": {
      "text/plain": "3901"
     },
     "metadata": {},
     "execution_count": 30
    }
   ],
   "source": [
    "form_one = r'\\$\\s*\\d+\\.?\\d*\\s*[mb]illion'\n",
    "box_office.str.contains(form_one, flags=re.IGNORECASE).sum()"
   ]
  },
  {
   "cell_type": "code",
   "execution_count": 31,
   "metadata": {},
   "outputs": [
    {
     "output_type": "execute_result",
     "data": {
      "text/plain": "1559"
     },
     "metadata": {},
     "execution_count": 31
    }
   ],
   "source": [
    "form_two = r'\\$\\s*\\d{1,3}(?:[,\\.]\\d{3})+(?!\\s[mb]illion)'\n",
    "box_office.str.contains(form_two, flags=re.IGNORECASE).sum()"
   ]
  },
  {
   "cell_type": "code",
   "execution_count": 32,
   "metadata": {},
   "outputs": [],
   "source": [
    "matches_form_one = box_office.str.contains(form_one, flags=re.IGNORECASE)\n",
    "matches_form_two = box_office.str.contains(form_two, flags=re.IGNORECASE)"
   ]
  },
  {
   "cell_type": "code",
   "execution_count": 33,
   "metadata": {},
   "outputs": [
    {
     "output_type": "execute_result",
     "data": {
      "text/plain": "110              $4.35-4.37 million\n600                      $5000 (US)\n1070                     35,254,617\n1480                     £3 million\n1865                   ¥1.1 billion\n2032                            N/A\n2091                           $309\n2665    926,423 admissions (France)\n3088      $32 [2] –33.1 million [1]\n3631                            TBA\n3859             $38.9–40.3 million\n3879       CN¥3.650 million (China)\n4116                     £7,385,434\n4261             $20.7–23.9 million\n4306                         $20-30\n4492                   $47.7 millon\n4561        $45.2k (only in Turkey)\n5447                          £2.56\n5784                       413 733$\n6013                        Unknown\n6145             $17.5–18.4 million\n6234             $41.8–41.9 million\n6369                          $111k\n6370                           $588\n6593                 less than $372\n6843                        8 crore\n6904                    $6.9 millon\nName: Box office, dtype: object"
     },
     "metadata": {},
     "execution_count": 33
    }
   ],
   "source": [
    "box_office[~matches_form_one & ~matches_form_two]"
   ]
  },
  {
   "cell_type": "code",
   "execution_count": 34,
   "metadata": {},
   "outputs": [],
   "source": [
    "box_office = box_office.str.replace(r'\\$.*[-—–](?![a-z])', '$', regex=True)"
   ]
  },
  {
   "cell_type": "code",
   "execution_count": 35,
   "metadata": {},
   "outputs": [
    {
     "output_type": "execute_result",
     "data": {
      "text/plain": "                  0\n0     $21.4 million\n1      $2.7 million\n2       $57,718,089\n3        $7,331,647\n4        $6,939,946\n...             ...\n7070  $19.4 million\n7071  $41.9 million\n7072  $76.1 million\n7073  $38.4 million\n7074   $5.5 million\n\n[5485 rows x 1 columns]",
      "text/html": "<div>\n<style scoped>\n    .dataframe tbody tr th:only-of-type {\n        vertical-align: middle;\n    }\n\n    .dataframe tbody tr th {\n        vertical-align: top;\n    }\n\n    .dataframe thead th {\n        text-align: right;\n    }\n</style>\n<table border=\"1\" class=\"dataframe\">\n  <thead>\n    <tr style=\"text-align: right;\">\n      <th></th>\n      <th>0</th>\n    </tr>\n  </thead>\n  <tbody>\n    <tr>\n      <th>0</th>\n      <td>$21.4 million</td>\n    </tr>\n    <tr>\n      <th>1</th>\n      <td>$2.7 million</td>\n    </tr>\n    <tr>\n      <th>2</th>\n      <td>$57,718,089</td>\n    </tr>\n    <tr>\n      <th>3</th>\n      <td>$7,331,647</td>\n    </tr>\n    <tr>\n      <th>4</th>\n      <td>$6,939,946</td>\n    </tr>\n    <tr>\n      <th>...</th>\n      <td>...</td>\n    </tr>\n    <tr>\n      <th>7070</th>\n      <td>$19.4 million</td>\n    </tr>\n    <tr>\n      <th>7071</th>\n      <td>$41.9 million</td>\n    </tr>\n    <tr>\n      <th>7072</th>\n      <td>$76.1 million</td>\n    </tr>\n    <tr>\n      <th>7073</th>\n      <td>$38.4 million</td>\n    </tr>\n    <tr>\n      <th>7074</th>\n      <td>$5.5 million</td>\n    </tr>\n  </tbody>\n</table>\n<p>5485 rows × 1 columns</p>\n</div>"
     },
     "metadata": {},
     "execution_count": 35
    }
   ],
   "source": [
    "box_office.str.extract(f'({form_one}|{form_two})')"
   ]
  },
  {
   "cell_type": "code",
   "execution_count": 36,
   "metadata": {},
   "outputs": [],
   "source": [
    "def parse_dollars(s):\n",
    "    # if s is not a string, return NaN\n",
    "    if type(s) != str:\n",
    "        return np.nan\n",
    "\n",
    "    # if input is of the form $###.# million\n",
    "    if re.match(r'\\$\\s*\\d+\\.?\\d*\\s*milli?on', s, flags=re.IGNORECASE):\n",
    "\n",
    "        # remove dollar sign and \" million\"\n",
    "        s = re.sub('\\$|\\s|[a-zA-Z]','', s)\n",
    "\n",
    "        # convert to float and multiply by a million\n",
    "        value = float(s) * 10**6\n",
    "\n",
    "        # return value\n",
    "        return value\n",
    "\n",
    "    # if input is of the form $###.# billion\n",
    "    elif re.match(r'\\$\\s*\\d+\\.?\\d*\\s*billi?on', s, flags=re.IGNORECASE):\n",
    "\n",
    "        # remove dollar sign and \" billion\"\n",
    "        s = re.sub('\\$|\\s|[a-zA-Z]','', s)\n",
    "\n",
    "        # convert to float and multiply by a billion\n",
    "        value = float(s) * 10**9\n",
    "\n",
    "        # return value\n",
    "        return value\n",
    "\n",
    "    # if input is of the form $###,###,###\n",
    "    elif re.match(r'\\$\\s*\\d{1,3}(?:[,\\.]\\d{3})+(?!\\s[mb]illion)', s, flags=re.IGNORECASE):\n",
    "\n",
    "        # remove dollar sign and commas\n",
    "        s = re.sub('\\$|,','', s)\n",
    "\n",
    "        # convert to float\n",
    "        value = float(s)\n",
    "\n",
    "        # return value\n",
    "        return value\n",
    "\n",
    "    # otherwise, return NaN\n",
    "    else:\n",
    "        return np.nan"
   ]
  },
  {
   "cell_type": "code",
   "execution_count": 37,
   "metadata": {},
   "outputs": [],
   "source": [
    "wiki_movies_df['box_office'] = box_office.str.extract(f'({form_one}|{form_two})', flags=re.IGNORECASE)[0].apply(parse_dollars)"
   ]
  },
  {
   "cell_type": "code",
   "execution_count": 38,
   "metadata": {},
   "outputs": [],
   "source": [
    "wiki_movies_df.drop('Box office', axis=1, inplace=True)"
   ]
  },
  {
   "cell_type": "code",
   "execution_count": 39,
   "metadata": {},
   "outputs": [],
   "source": [
    "budget = wiki_movies_df['Budget'].dropna()"
   ]
  },
  {
   "cell_type": "code",
   "execution_count": 40,
   "metadata": {},
   "outputs": [],
   "source": [
    "budget = budget.map(lambda x: ' '.join(x) if type(x) == list else x)"
   ]
  },
  {
   "cell_type": "code",
   "execution_count": 41,
   "metadata": {},
   "outputs": [],
   "source": [
    "budget = budget.str.replace(r'\\$.*[-—–](?![a-z])', '$', regex=True)"
   ]
  },
  {
   "cell_type": "code",
   "execution_count": 42,
   "metadata": {},
   "outputs": [
    {
     "output_type": "execute_result",
     "data": {
      "text/plain": "136                         Unknown\n204     60 million Norwegian Kroner\n478                         Unknown\n973             $34 [3] [4] million\n1126               $120 [4] million\n1226                        Unknown\n1278                            HBO\n1374                     £6,000,000\n1397                     13 million\n1480                   £2.8 million\n1734                   CAD2,000,000\n1913     PHP 85 million (estimated)\n1948                    102,888,900\n1953                   3,500,000 DM\n1973                     ₤2,300,874\n2281                     $14 milion\n2451                     ₤6,350,000\n3144                   € 40 million\n3360               $150 [6] million\n3418                        $218.32\n3802                   £4.2 million\n3906                            N/A\n3959                    760,000 USD\n4470                       19 crore\n4641                    £17 million\n5034              $$200 [4] million\n5055           $155 [2] [3] million\n5419                $40 [4] million\n5424                            N/A\n5447                     £4 million\n5671                    €14 million\n5687                   $ dead link]\n6385               £ 12 million [3]\n6593                     £3 million\n6821                  £12.9 million\n6843                      3.5 crore\n6895                        919,000\n6904                    $8.6 millon\n7070                   €4.3 million\nName: Budget, dtype: object"
     },
     "metadata": {},
     "execution_count": 42
    }
   ],
   "source": [
    "matches_form_one = budget.str.contains(form_one, flags=re.IGNORECASE)\n",
    "matches_form_two = budget.str.contains(form_two, flags=re.IGNORECASE)\n",
    "budget[~matches_form_one & ~matches_form_two]"
   ]
  },
  {
   "cell_type": "code",
   "execution_count": 43,
   "metadata": {},
   "outputs": [
    {
     "output_type": "execute_result",
     "data": {
      "text/plain": "136                         Unknown\n204     60 million Norwegian Kroner\n478                         Unknown\n973                     $34 million\n1126                   $120 million\n1226                        Unknown\n1278                            HBO\n1374                     £6,000,000\n1397                     13 million\n1480                   £2.8 million\n1734                   CAD2,000,000\n1913     PHP 85 million (estimated)\n1948                    102,888,900\n1953                   3,500,000 DM\n1973                     ₤2,300,874\n2281                     $14 milion\n2451                     ₤6,350,000\n3144                   € 40 million\n3360                   $150 million\n3418                        $218.32\n3802                   £4.2 million\n3906                            N/A\n3959                    760,000 USD\n4470                       19 crore\n4641                    £17 million\n5034                  $$200 million\n5055                   $155 million\n5419                    $40 million\n5424                            N/A\n5447                     £4 million\n5671                    €14 million\n5687                   $ dead link]\n6385                  £ 12 million \n6593                     £3 million\n6821                  £12.9 million\n6843                      3.5 crore\n6895                        919,000\n6904                    $8.6 millon\n7070                   €4.3 million\nName: Budget, dtype: object"
     },
     "metadata": {},
     "execution_count": 43
    }
   ],
   "source": [
    "budget = budget.str.replace(r'\\[\\d+\\]\\s*', '')\n",
    "budget[~matches_form_one & ~matches_form_two]"
   ]
  },
  {
   "cell_type": "code",
   "execution_count": 44,
   "metadata": {},
   "outputs": [],
   "source": [
    "wiki_movies_df['budget'] = budget.str.extract(f'({form_one}|{form_two})', flags=re.IGNORECASE)[0].apply(parse_dollars)"
   ]
  },
  {
   "cell_type": "code",
   "execution_count": 45,
   "metadata": {},
   "outputs": [],
   "source": [
    "wiki_movies_df.drop('Budget', axis=1, inplace=True)"
   ]
  },
  {
   "cell_type": "code",
   "execution_count": 46,
   "metadata": {},
   "outputs": [],
   "source": [
    "release_date = wiki_movies_df['Release date'].dropna().apply(lambda x: ' '.join(x) if type(x) == list else x)"
   ]
  },
  {
   "cell_type": "code",
   "execution_count": 47,
   "metadata": {},
   "outputs": [],
   "source": [
    "date_form_one = r'(?:January|February|March|April|May|June|July|August|September|October|November|December)\\s[123]\\d,\\s\\d{4}'\n",
    "date_form_two = r'\\d{4}.[01]\\d.[123]\\d'\n",
    "date_form_three = r'(?:January|February|March|April|May|June|July|August|September|October|November|December)\\s\\d{4}'\n",
    "date_form_four = r'\\d{4}'"
   ]
  },
  {
   "cell_type": "code",
   "execution_count": 48,
   "metadata": {},
   "outputs": [
    {
     "output_type": "execute_result",
     "data": {
      "text/plain": "                      0\n0         July 11, 1990\n1          May 17, 1990\n2       August 10, 1990\n3     December 25, 1990\n4     December 19, 1990\n...                 ...\n7071  December 25, 2018\n7072  December 11, 2018\n7073               2018\n7074    August 31, 2018\n7075      December 2018\n\n[7001 rows x 1 columns]",
      "text/html": "<div>\n<style scoped>\n    .dataframe tbody tr th:only-of-type {\n        vertical-align: middle;\n    }\n\n    .dataframe tbody tr th {\n        vertical-align: top;\n    }\n\n    .dataframe thead th {\n        text-align: right;\n    }\n</style>\n<table border=\"1\" class=\"dataframe\">\n  <thead>\n    <tr style=\"text-align: right;\">\n      <th></th>\n      <th>0</th>\n    </tr>\n  </thead>\n  <tbody>\n    <tr>\n      <th>0</th>\n      <td>July 11, 1990</td>\n    </tr>\n    <tr>\n      <th>1</th>\n      <td>May 17, 1990</td>\n    </tr>\n    <tr>\n      <th>2</th>\n      <td>August 10, 1990</td>\n    </tr>\n    <tr>\n      <th>3</th>\n      <td>December 25, 1990</td>\n    </tr>\n    <tr>\n      <th>4</th>\n      <td>December 19, 1990</td>\n    </tr>\n    <tr>\n      <th>...</th>\n      <td>...</td>\n    </tr>\n    <tr>\n      <th>7071</th>\n      <td>December 25, 2018</td>\n    </tr>\n    <tr>\n      <th>7072</th>\n      <td>December 11, 2018</td>\n    </tr>\n    <tr>\n      <th>7073</th>\n      <td>2018</td>\n    </tr>\n    <tr>\n      <th>7074</th>\n      <td>August 31, 2018</td>\n    </tr>\n    <tr>\n      <th>7075</th>\n      <td>December 2018</td>\n    </tr>\n  </tbody>\n</table>\n<p>7001 rows × 1 columns</p>\n</div>"
     },
     "metadata": {},
     "execution_count": 48
    }
   ],
   "source": [
    "release_date.str.extract(f'({date_form_one}|{date_form_two}|{date_form_three}|{date_form_four})', flags=re.IGNORECASE)"
   ]
  },
  {
   "cell_type": "code",
   "execution_count": 49,
   "metadata": {},
   "outputs": [],
   "source": [
    "wiki_movies_df['release_date'] = pd.to_datetime(release_date.str.extract(f'({date_form_one}|{date_form_two}|{date_form_three}|{date_form_four})')[0], infer_datetime_format=True)"
   ]
  },
  {
   "cell_type": "code",
   "execution_count": 50,
   "metadata": {},
   "outputs": [],
   "source": [
    "running_time = wiki_movies_df['Running time'].dropna().apply(lambda x: ' '.join(x) if type(x) == list else x)"
   ]
  },
  {
   "cell_type": "code",
   "execution_count": 51,
   "metadata": {},
   "outputs": [
    {
     "output_type": "execute_result",
     "data": {
      "text/plain": "6528"
     },
     "metadata": {},
     "execution_count": 51
    }
   ],
   "source": [
    "running_time.str.contains(r'^\\d*\\s*minutes$', flags=re.IGNORECASE).sum()"
   ]
  },
  {
   "cell_type": "code",
   "execution_count": 52,
   "metadata": {},
   "outputs": [
    {
     "output_type": "execute_result",
     "data": {
      "text/plain": "9                                                 102 min\n26                                                 93 min\n28                                                32 min.\n34                                                101 min\n35                                                 97 min\n                              ...                        \n6500       114 minutes [1] 120 minutes (extended edition)\n6643                                             104 mins\n6709    90 minutes (theatrical) [1] 91 minutes (unrate...\n7057    108 minutes (Original cut) 98 minutes (UK cut)...\n7075                Variable; 90 minutes for default path\nName: Running time, Length: 366, dtype: object"
     },
     "metadata": {},
     "execution_count": 52
    }
   ],
   "source": [
    "running_time[running_time.str.contains(r'^\\d*\\s*minutes$', flags=re.IGNORECASE) != True]"
   ]
  },
  {
   "cell_type": "code",
   "execution_count": 53,
   "metadata": {},
   "outputs": [
    {
     "output_type": "execute_result",
     "data": {
      "text/plain": "6877"
     },
     "metadata": {},
     "execution_count": 53
    }
   ],
   "source": [
    "running_time.str.contains(r'^\\d*\\s*m', flags=re.IGNORECASE).sum()"
   ]
  },
  {
   "cell_type": "code",
   "execution_count": 54,
   "metadata": {},
   "outputs": [
    {
     "output_type": "execute_result",
     "data": {
      "text/plain": "668                     UK:84 min (DVD version) US:86 min\n727                         78-102 min (depending on cut)\n840                       Varies (79 [3] –84 [1] minutes)\n1347                                              25 : 03\n1443    United States: 77 minutes Argentina: 94 minute...\n1499                                            1hr 35min\n1551                                               varies\n1774                    Netherlands:96 min, Canada:95 min\n1777                                       approx. 14 min\n2273                                           1 h 43 min\n2993                                               1h 48m\n3925                                              4 hours\n4425    US domestic version: 86 minutes Original versi...\n4967    Theatrical cut: 97 minutes Unrated cut: 107 mi...\n5424                    115 [1] /123 [2] /128 [3] minutes\n5447                                    1 hour 32 minutes\n7075                Variable; 90 minutes for default path\nName: Running time, dtype: object"
     },
     "metadata": {},
     "execution_count": 54
    }
   ],
   "source": [
    "running_time[running_time.str.contains(r'^\\d*\\s*m', flags=re.IGNORECASE) != True]"
   ]
  },
  {
   "cell_type": "code",
   "execution_count": 55,
   "metadata": {},
   "outputs": [],
   "source": [
    "running_time_extract = running_time.str.extract(r'(\\d+)\\s*ho?u?r?s?\\s*(\\d*)|(\\d+)\\s*m')"
   ]
  },
  {
   "cell_type": "code",
   "execution_count": 56,
   "metadata": {},
   "outputs": [],
   "source": [
    "running_time_extract = running_time_extract.apply(lambda col: pd.to_numeric(col, errors='coerce')).fillna(0)"
   ]
  },
  {
   "cell_type": "code",
   "execution_count": 57,
   "metadata": {},
   "outputs": [],
   "source": [
    "wiki_movies_df['running_time'] = running_time_extract.apply(lambda row: row[0]*60 + row[1] if row[2] == 0 else row[2], axis=1)"
   ]
  },
  {
   "cell_type": "code",
   "execution_count": 58,
   "metadata": {},
   "outputs": [],
   "source": [
    "wiki_movies_df.drop('Running time', axis=1, inplace=True)"
   ]
  },
  {
   "cell_type": "code",
   "execution_count": 59,
   "metadata": {},
   "outputs": [
    {
     "output_type": "execute_result",
     "data": {
      "text/plain": "adult                     object\nbelongs_to_collection     object\nbudget                    object\ngenres                    object\nhomepage                  object\nid                        object\nimdb_id                   object\noriginal_language         object\noriginal_title            object\noverview                  object\npopularity                object\nposter_path               object\nproduction_companies      object\nproduction_countries      object\nrelease_date              object\nrevenue                  float64\nruntime                  float64\nspoken_languages          object\nstatus                    object\ntagline                   object\ntitle                     object\nvideo                     object\nvote_average             float64\nvote_count               float64\ndtype: object"
     },
     "metadata": {},
     "execution_count": 59
    }
   ],
   "source": [
    "kaggle_metadata.dtypes"
   ]
  },
  {
   "cell_type": "code",
   "execution_count": 60,
   "metadata": {},
   "outputs": [
    {
     "output_type": "execute_result",
     "data": {
      "text/plain": "False                                                                                                                             45454\nTrue                                                                                                                                  9\n Rune Balot goes to a casino connected to the October corporation to try to wrap up her case once and for all.                        1\n Avalanche Sharks tells the story of a bikini contest that turns into a horrifying affair when it is hit by a shark avalanche.        1\n - Written by Ørnås                                                                                                                   1\nName: adult, dtype: int64"
     },
     "metadata": {},
     "execution_count": 60
    }
   ],
   "source": [
    "kaggle_metadata['adult'].value_counts()"
   ]
  },
  {
   "cell_type": "code",
   "execution_count": 61,
   "metadata": {},
   "outputs": [
    {
     "output_type": "execute_result",
     "data": {
      "text/plain": "                                                   adult  \\\n19730                                 - Written by Ørnås   \n29503   Rune Balot goes to a casino connected to the ...   \n35587   Avalanche Sharks tells the story of a bikini ...   \n\n      belongs_to_collection                            budget  \\\n19730              0.065736  /ff9qCepilowshEtG2GYWwzt2bs4.jpg   \n29503              1.931659  /zV8bHuSL6WXoD6FWogP9j4x80bL.jpg   \n35587              2.185485  /zaSf5OG7V8X8gqFvly88zDdRm46.jpg   \n\n                                                  genres  \\\n19730  [{'name': 'Carousel Productions', 'id': 11176}...   \n29503  [{'name': 'Aniplex', 'id': 2883}, {'name': 'Go...   \n35587  [{'name': 'Odyssey Media', 'id': 17161}, {'nam...   \n\n                                                homepage          id imdb_id  \\\n19730  [{'iso_3166_1': 'CA', 'name': 'Canada'}, {'iso...  1997-08-20       0   \n29503  [{'iso_3166_1': 'US', 'name': 'United States o...  2012-09-29       0   \n35587           [{'iso_3166_1': 'CA', 'name': 'Canada'}]  2014-01-01       0   \n\n      original_language                            original_title  overview  \\\n19730             104.0  [{'iso_639_1': 'en', 'name': 'English'}]  Released   \n29503              68.0      [{'iso_639_1': 'ja', 'name': '日本語'}]  Released   \n35587              82.0  [{'iso_639_1': 'en', 'name': 'English'}]  Released   \n\n       ... release_date revenue runtime spoken_languages status  tagline  \\\n19730  ...            1     NaN     NaN              NaN    NaN      NaN   \n29503  ...           12     NaN     NaN              NaN    NaN      NaN   \n35587  ...           22     NaN     NaN              NaN    NaN      NaN   \n\n       title video vote_average vote_count  \n19730    NaN   NaN          NaN        NaN  \n29503    NaN   NaN          NaN        NaN  \n35587    NaN   NaN          NaN        NaN  \n\n[3 rows x 24 columns]",
      "text/html": "<div>\n<style scoped>\n    .dataframe tbody tr th:only-of-type {\n        vertical-align: middle;\n    }\n\n    .dataframe tbody tr th {\n        vertical-align: top;\n    }\n\n    .dataframe thead th {\n        text-align: right;\n    }\n</style>\n<table border=\"1\" class=\"dataframe\">\n  <thead>\n    <tr style=\"text-align: right;\">\n      <th></th>\n      <th>adult</th>\n      <th>belongs_to_collection</th>\n      <th>budget</th>\n      <th>genres</th>\n      <th>homepage</th>\n      <th>id</th>\n      <th>imdb_id</th>\n      <th>original_language</th>\n      <th>original_title</th>\n      <th>overview</th>\n      <th>...</th>\n      <th>release_date</th>\n      <th>revenue</th>\n      <th>runtime</th>\n      <th>spoken_languages</th>\n      <th>status</th>\n      <th>tagline</th>\n      <th>title</th>\n      <th>video</th>\n      <th>vote_average</th>\n      <th>vote_count</th>\n    </tr>\n  </thead>\n  <tbody>\n    <tr>\n      <th>19730</th>\n      <td>- Written by Ørnås</td>\n      <td>0.065736</td>\n      <td>/ff9qCepilowshEtG2GYWwzt2bs4.jpg</td>\n      <td>[{'name': 'Carousel Productions', 'id': 11176}...</td>\n      <td>[{'iso_3166_1': 'CA', 'name': 'Canada'}, {'iso...</td>\n      <td>1997-08-20</td>\n      <td>0</td>\n      <td>104.0</td>\n      <td>[{'iso_639_1': 'en', 'name': 'English'}]</td>\n      <td>Released</td>\n      <td>...</td>\n      <td>1</td>\n      <td>NaN</td>\n      <td>NaN</td>\n      <td>NaN</td>\n      <td>NaN</td>\n      <td>NaN</td>\n      <td>NaN</td>\n      <td>NaN</td>\n      <td>NaN</td>\n      <td>NaN</td>\n    </tr>\n    <tr>\n      <th>29503</th>\n      <td>Rune Balot goes to a casino connected to the ...</td>\n      <td>1.931659</td>\n      <td>/zV8bHuSL6WXoD6FWogP9j4x80bL.jpg</td>\n      <td>[{'name': 'Aniplex', 'id': 2883}, {'name': 'Go...</td>\n      <td>[{'iso_3166_1': 'US', 'name': 'United States o...</td>\n      <td>2012-09-29</td>\n      <td>0</td>\n      <td>68.0</td>\n      <td>[{'iso_639_1': 'ja', 'name': '日本語'}]</td>\n      <td>Released</td>\n      <td>...</td>\n      <td>12</td>\n      <td>NaN</td>\n      <td>NaN</td>\n      <td>NaN</td>\n      <td>NaN</td>\n      <td>NaN</td>\n      <td>NaN</td>\n      <td>NaN</td>\n      <td>NaN</td>\n      <td>NaN</td>\n    </tr>\n    <tr>\n      <th>35587</th>\n      <td>Avalanche Sharks tells the story of a bikini ...</td>\n      <td>2.185485</td>\n      <td>/zaSf5OG7V8X8gqFvly88zDdRm46.jpg</td>\n      <td>[{'name': 'Odyssey Media', 'id': 17161}, {'nam...</td>\n      <td>[{'iso_3166_1': 'CA', 'name': 'Canada'}]</td>\n      <td>2014-01-01</td>\n      <td>0</td>\n      <td>82.0</td>\n      <td>[{'iso_639_1': 'en', 'name': 'English'}]</td>\n      <td>Released</td>\n      <td>...</td>\n      <td>22</td>\n      <td>NaN</td>\n      <td>NaN</td>\n      <td>NaN</td>\n      <td>NaN</td>\n      <td>NaN</td>\n      <td>NaN</td>\n      <td>NaN</td>\n      <td>NaN</td>\n      <td>NaN</td>\n    </tr>\n  </tbody>\n</table>\n<p>3 rows × 24 columns</p>\n</div>"
     },
     "metadata": {},
     "execution_count": 61
    }
   ],
   "source": [
    "kaggle_metadata[~kaggle_metadata['adult'].isin(['True','False'])]"
   ]
  },
  {
   "cell_type": "code",
   "execution_count": 62,
   "metadata": {},
   "outputs": [],
   "source": [
    "kaggle_metadata = kaggle_metadata[kaggle_metadata['adult'] == 'False'].drop('adult',axis='columns')"
   ]
  },
  {
   "cell_type": "code",
   "execution_count": 63,
   "metadata": {},
   "outputs": [
    {
     "output_type": "execute_result",
     "data": {
      "text/plain": "False    45358\nTrue        93\nName: video, dtype: int64"
     },
     "metadata": {},
     "execution_count": 63
    }
   ],
   "source": [
    "kaggle_metadata['video'].value_counts()"
   ]
  },
  {
   "cell_type": "code",
   "execution_count": 69,
   "metadata": {},
   "outputs": [],
   "source": [
    "kaggle_metadata['video'] = kaggle_metadata['video'] == 'True'\n",
    "kaggle_metadata['budget'] = kaggle_metadata['budget'].astype(int)\n",
    "kaggle_metadata['id'] = pd.to_numeric(kaggle_metadata['id'], errors='raise')\n",
    "kaggle_metadata['popularity'] = pd.to_numeric(kaggle_metadata['popularity'], errors='raise')\n",
    "kaggle_metadata['release_date'] = pd.to_datetime(kaggle_metadata['release_date'])"
   ]
  },
  {
   "cell_type": "code",
   "execution_count": 70,
   "metadata": {
    "tags": []
   },
   "outputs": [
    {
     "output_type": "stream",
     "name": "stdout",
     "text": "<class 'pandas.core.frame.DataFrame'>\nRangeIndex: 26024289 entries, 0 to 26024288\nData columns (total 4 columns):\n #   Column     Non-Null Count     Dtype  \n---  ------     --------------     -----  \n 0   userId     26024289 non-null  int64  \n 1   movieId    26024289 non-null  int64  \n 2   rating     26024289 non-null  float64\n 3   timestamp  26024289 non-null  int64  \ndtypes: float64(1), int64(3)\nmemory usage: 794.2 MB\n"
    }
   ],
   "source": [
    "ratings.info(null_counts=True)"
   ]
  },
  {
   "cell_type": "code",
   "execution_count": 71,
   "metadata": {},
   "outputs": [
    {
     "output_type": "execute_result",
     "data": {
      "text/plain": "0          2015-03-09 22:52:09\n1          2015-03-09 23:07:15\n2          2015-03-09 22:52:03\n3          2015-03-09 22:52:26\n4          2015-03-09 22:52:36\n                   ...        \n26024284   2009-10-31 23:26:04\n26024285   2009-10-31 23:33:52\n26024286   2009-10-31 23:29:24\n26024287   2009-11-01 00:06:30\n26024288   2009-10-31 23:30:58\nName: timestamp, Length: 26024289, dtype: datetime64[ns]"
     },
     "metadata": {},
     "execution_count": 71
    }
   ],
   "source": [
    "pd.to_datetime(ratings['timestamp'], unit='s')"
   ]
  },
  {
   "cell_type": "code",
   "execution_count": 73,
   "metadata": {},
   "outputs": [],
   "source": [
    "ratings['timestamp'] = pd.to_datetime(ratings['timestamp'], unit='s')"
   ]
  },
  {
   "cell_type": "code",
   "execution_count": 74,
   "metadata": {},
   "outputs": [
    {
     "output_type": "execute_result",
     "data": {
      "text/plain": "count    2.602429e+07\nmean     3.528090e+00\nstd      1.065443e+00\nmin      5.000000e-01\n25%      3.000000e+00\n50%      3.500000e+00\n75%      4.000000e+00\nmax      5.000000e+00\nName: rating, dtype: float64"
     },
     "metadata": {},
     "execution_count": 74
    },
    {
     "output_type": "display_data",
     "data": {
      "text/plain": "<Figure size 432x288 with 1 Axes>",
      "image/svg+xml": "<?xml version=\"1.0\" encoding=\"utf-8\" standalone=\"no\"?>\n<!DOCTYPE svg PUBLIC \"-//W3C//DTD SVG 1.1//EN\"\n  \"http://www.w3.org/Graphics/SVG/1.1/DTD/svg11.dtd\">\n<!-- Created with matplotlib (https://matplotlib.org/) -->\n<svg height=\"259.116562pt\" version=\"1.1\" viewBox=\"0 0 376.240625 259.116562\" width=\"376.240625pt\" xmlns=\"http://www.w3.org/2000/svg\" xmlns:xlink=\"http://www.w3.org/1999/xlink\">\n <defs>\n  <style type=\"text/css\">\n*{stroke-linecap:butt;stroke-linejoin:round;}\n  </style>\n </defs>\n <g id=\"figure_1\">\n  <g id=\"patch_1\">\n   <path d=\"M 0 259.116562 \nL 376.240625 259.116562 \nL 376.240625 0 \nL 0 0 \nz\n\" style=\"fill:none;\"/>\n  </g>\n  <g id=\"axes_1\">\n   <g id=\"patch_2\">\n    <path d=\"M 34.240625 235.238437 \nL 369.040625 235.238437 \nL 369.040625 17.798437 \nL 34.240625 17.798437 \nz\n\" style=\"fill:#ffffff;\"/>\n   </g>\n   <g id=\"patch_3\">\n    <path clip-path=\"url(#p52d1ee0704)\" d=\"M 49.458807 235.238437 \nL 79.89517 235.238437 \nL 79.89517 223.258047 \nL 49.458807 223.258047 \nz\n\" style=\"fill:#1f77b4;\"/>\n   </g>\n   <g id=\"patch_4\">\n    <path clip-path=\"url(#p52d1ee0704)\" d=\"M 79.89517 235.238437 \nL 110.331534 235.238437 \nL 110.331534 210.285959 \nL 79.89517 210.285959 \nz\n\" style=\"fill:#1f77b4;\"/>\n   </g>\n   <g id=\"patch_5\">\n    <path clip-path=\"url(#p52d1ee0704)\" d=\"M 110.331534 235.238437 \nL 140.767898 235.238437 \nL 140.767898 223.296216 \nL 110.331534 223.296216 \nz\n\" style=\"fill:#1f77b4;\"/>\n   </g>\n   <g id=\"patch_6\">\n    <path clip-path=\"url(#p52d1ee0704)\" d=\"M 140.767898 235.238437 \nL 171.204261 235.238437 \nL 171.204261 183.090063 \nL 140.767898 183.090063 \nz\n\" style=\"fill:#1f77b4;\"/>\n   </g>\n   <g id=\"patch_7\">\n    <path clip-path=\"url(#p52d1ee0704)\" d=\"M 171.204261 235.238437 \nL 201.640625 235.238437 \nL 201.640625 198.093979 \nL 171.204261 198.093979 \nz\n\" style=\"fill:#1f77b4;\"/>\n   </g>\n   <g id=\"patch_8\">\n    <path clip-path=\"url(#p52d1ee0704)\" d=\"M 201.640625 235.238437 \nL 232.076989 235.238437 \nL 232.076989 79.698671 \nL 201.640625 79.698671 \nz\n\" style=\"fill:#1f77b4;\"/>\n   </g>\n   <g id=\"patch_9\">\n    <path clip-path=\"url(#p52d1ee0704)\" d=\"M 232.076989 235.238437 \nL 262.513352 235.238437 \nL 262.513352 143.033629 \nL 232.076989 143.033629 \nz\n\" style=\"fill:#1f77b4;\"/>\n   </g>\n   <g id=\"patch_10\">\n    <path clip-path=\"url(#p52d1ee0704)\" d=\"M 262.513352 235.238437 \nL 292.949716 235.238437 \nL 292.949716 28.152723 \nL 262.513352 28.152723 \nz\n\" style=\"fill:#1f77b4;\"/>\n   </g>\n   <g id=\"patch_11\">\n    <path clip-path=\"url(#p52d1ee0704)\" d=\"M 292.949716 235.238437 \nL 323.38608 235.238437 \nL 323.38608 171.017829 \nL 292.949716 171.017829 \nz\n\" style=\"fill:#1f77b4;\"/>\n   </g>\n   <g id=\"patch_12\">\n    <path clip-path=\"url(#p52d1ee0704)\" d=\"M 323.38608 235.238437 \nL 353.822443 235.238437 \nL 353.822443 122.431406 \nL 323.38608 122.431406 \nz\n\" style=\"fill:#1f77b4;\"/>\n   </g>\n   <g id=\"matplotlib.axis_1\">\n    <g id=\"xtick_1\">\n     <g id=\"line2d_1\">\n      <defs>\n       <path d=\"M 0 0 \nL 0 3.5 \n\" id=\"m893d30ecec\" style=\"stroke:#000000;stroke-width:0.8;\"/>\n      </defs>\n      <g>\n       <use style=\"stroke:#000000;stroke-width:0.8;\" x=\"83.276989\" xlink:href=\"#m893d30ecec\" y=\"235.238437\"/>\n      </g>\n     </g>\n     <g id=\"text_1\">\n      <!-- 1 -->\n      <defs>\n       <path d=\"M 12.40625 8.296875 \nL 28.515625 8.296875 \nL 28.515625 63.921875 \nL 10.984375 60.40625 \nL 10.984375 69.390625 \nL 28.421875 72.90625 \nL 38.28125 72.90625 \nL 38.28125 8.296875 \nL 54.390625 8.296875 \nL 54.390625 0 \nL 12.40625 0 \nz\n\" id=\"DejaVuSans-49\"/>\n      </defs>\n      <g transform=\"translate(80.095739 249.836875)scale(0.1 -0.1)\">\n       <use xlink:href=\"#DejaVuSans-49\"/>\n      </g>\n     </g>\n    </g>\n    <g id=\"xtick_2\">\n     <g id=\"line2d_2\">\n      <g>\n       <use style=\"stroke:#000000;stroke-width:0.8;\" x=\"150.913352\" xlink:href=\"#m893d30ecec\" y=\"235.238437\"/>\n      </g>\n     </g>\n     <g id=\"text_2\">\n      <!-- 2 -->\n      <defs>\n       <path d=\"M 19.1875 8.296875 \nL 53.609375 8.296875 \nL 53.609375 0 \nL 7.328125 0 \nL 7.328125 8.296875 \nQ 12.9375 14.109375 22.625 23.890625 \nQ 32.328125 33.6875 34.8125 36.53125 \nQ 39.546875 41.84375 41.421875 45.53125 \nQ 43.3125 49.21875 43.3125 52.78125 \nQ 43.3125 58.59375 39.234375 62.25 \nQ 35.15625 65.921875 28.609375 65.921875 \nQ 23.96875 65.921875 18.8125 64.3125 \nQ 13.671875 62.703125 7.8125 59.421875 \nL 7.8125 69.390625 \nQ 13.765625 71.78125 18.9375 73 \nQ 24.125 74.21875 28.421875 74.21875 \nQ 39.75 74.21875 46.484375 68.546875 \nQ 53.21875 62.890625 53.21875 53.421875 \nQ 53.21875 48.921875 51.53125 44.890625 \nQ 49.859375 40.875 45.40625 35.40625 \nQ 44.1875 33.984375 37.640625 27.21875 \nQ 31.109375 20.453125 19.1875 8.296875 \nz\n\" id=\"DejaVuSans-50\"/>\n      </defs>\n      <g transform=\"translate(147.732102 249.836875)scale(0.1 -0.1)\">\n       <use xlink:href=\"#DejaVuSans-50\"/>\n      </g>\n     </g>\n    </g>\n    <g id=\"xtick_3\">\n     <g id=\"line2d_3\">\n      <g>\n       <use style=\"stroke:#000000;stroke-width:0.8;\" x=\"218.549716\" xlink:href=\"#m893d30ecec\" y=\"235.238437\"/>\n      </g>\n     </g>\n     <g id=\"text_3\">\n      <!-- 3 -->\n      <defs>\n       <path d=\"M 40.578125 39.3125 \nQ 47.65625 37.796875 51.625 33 \nQ 55.609375 28.21875 55.609375 21.1875 \nQ 55.609375 10.40625 48.1875 4.484375 \nQ 40.765625 -1.421875 27.09375 -1.421875 \nQ 22.515625 -1.421875 17.65625 -0.515625 \nQ 12.796875 0.390625 7.625 2.203125 \nL 7.625 11.71875 \nQ 11.71875 9.328125 16.59375 8.109375 \nQ 21.484375 6.890625 26.8125 6.890625 \nQ 36.078125 6.890625 40.9375 10.546875 \nQ 45.796875 14.203125 45.796875 21.1875 \nQ 45.796875 27.640625 41.28125 31.265625 \nQ 36.765625 34.90625 28.71875 34.90625 \nL 20.21875 34.90625 \nL 20.21875 43.015625 \nL 29.109375 43.015625 \nQ 36.375 43.015625 40.234375 45.921875 \nQ 44.09375 48.828125 44.09375 54.296875 \nQ 44.09375 59.90625 40.109375 62.90625 \nQ 36.140625 65.921875 28.71875 65.921875 \nQ 24.65625 65.921875 20.015625 65.03125 \nQ 15.375 64.15625 9.8125 62.3125 \nL 9.8125 71.09375 \nQ 15.4375 72.65625 20.34375 73.4375 \nQ 25.25 74.21875 29.59375 74.21875 \nQ 40.828125 74.21875 47.359375 69.109375 \nQ 53.90625 64.015625 53.90625 55.328125 \nQ 53.90625 49.265625 50.4375 45.09375 \nQ 46.96875 40.921875 40.578125 39.3125 \nz\n\" id=\"DejaVuSans-51\"/>\n      </defs>\n      <g transform=\"translate(215.368466 249.836875)scale(0.1 -0.1)\">\n       <use xlink:href=\"#DejaVuSans-51\"/>\n      </g>\n     </g>\n    </g>\n    <g id=\"xtick_4\">\n     <g id=\"line2d_4\">\n      <g>\n       <use style=\"stroke:#000000;stroke-width:0.8;\" x=\"286.18608\" xlink:href=\"#m893d30ecec\" y=\"235.238437\"/>\n      </g>\n     </g>\n     <g id=\"text_4\">\n      <!-- 4 -->\n      <defs>\n       <path d=\"M 37.796875 64.3125 \nL 12.890625 25.390625 \nL 37.796875 25.390625 \nz\nM 35.203125 72.90625 \nL 47.609375 72.90625 \nL 47.609375 25.390625 \nL 58.015625 25.390625 \nL 58.015625 17.1875 \nL 47.609375 17.1875 \nL 47.609375 0 \nL 37.796875 0 \nL 37.796875 17.1875 \nL 4.890625 17.1875 \nL 4.890625 26.703125 \nz\n\" id=\"DejaVuSans-52\"/>\n      </defs>\n      <g transform=\"translate(283.00483 249.836875)scale(0.1 -0.1)\">\n       <use xlink:href=\"#DejaVuSans-52\"/>\n      </g>\n     </g>\n    </g>\n    <g id=\"xtick_5\">\n     <g id=\"line2d_5\">\n      <g>\n       <use style=\"stroke:#000000;stroke-width:0.8;\" x=\"353.822443\" xlink:href=\"#m893d30ecec\" y=\"235.238437\"/>\n      </g>\n     </g>\n     <g id=\"text_5\">\n      <!-- 5 -->\n      <defs>\n       <path d=\"M 10.796875 72.90625 \nL 49.515625 72.90625 \nL 49.515625 64.59375 \nL 19.828125 64.59375 \nL 19.828125 46.734375 \nQ 21.96875 47.46875 24.109375 47.828125 \nQ 26.265625 48.1875 28.421875 48.1875 \nQ 40.625 48.1875 47.75 41.5 \nQ 54.890625 34.8125 54.890625 23.390625 \nQ 54.890625 11.625 47.5625 5.09375 \nQ 40.234375 -1.421875 26.90625 -1.421875 \nQ 22.3125 -1.421875 17.546875 -0.640625 \nQ 12.796875 0.140625 7.71875 1.703125 \nL 7.71875 11.625 \nQ 12.109375 9.234375 16.796875 8.0625 \nQ 21.484375 6.890625 26.703125 6.890625 \nQ 35.15625 6.890625 40.078125 11.328125 \nQ 45.015625 15.765625 45.015625 23.390625 \nQ 45.015625 31 40.078125 35.4375 \nQ 35.15625 39.890625 26.703125 39.890625 \nQ 22.75 39.890625 18.8125 39.015625 \nQ 14.890625 38.140625 10.796875 36.28125 \nz\n\" id=\"DejaVuSans-53\"/>\n      </defs>\n      <g transform=\"translate(350.641193 249.836875)scale(0.1 -0.1)\">\n       <use xlink:href=\"#DejaVuSans-53\"/>\n      </g>\n     </g>\n    </g>\n   </g>\n   <g id=\"matplotlib.axis_2\">\n    <g id=\"ytick_1\">\n     <g id=\"line2d_6\">\n      <defs>\n       <path d=\"M 0 0 \nL -3.5 0 \n\" id=\"m11d7616d57\" style=\"stroke:#000000;stroke-width:0.8;\"/>\n      </defs>\n      <g>\n       <use style=\"stroke:#000000;stroke-width:0.8;\" x=\"34.240625\" xlink:href=\"#m11d7616d57\" y=\"235.238437\"/>\n      </g>\n     </g>\n     <g id=\"text_6\">\n      <!-- 0 -->\n      <defs>\n       <path d=\"M 31.78125 66.40625 \nQ 24.171875 66.40625 20.328125 58.90625 \nQ 16.5 51.421875 16.5 36.375 \nQ 16.5 21.390625 20.328125 13.890625 \nQ 24.171875 6.390625 31.78125 6.390625 \nQ 39.453125 6.390625 43.28125 13.890625 \nQ 47.125 21.390625 47.125 36.375 \nQ 47.125 51.421875 43.28125 58.90625 \nQ 39.453125 66.40625 31.78125 66.40625 \nz\nM 31.78125 74.21875 \nQ 44.046875 74.21875 50.515625 64.515625 \nQ 56.984375 54.828125 56.984375 36.375 \nQ 56.984375 17.96875 50.515625 8.265625 \nQ 44.046875 -1.421875 31.78125 -1.421875 \nQ 19.53125 -1.421875 13.0625 8.265625 \nQ 6.59375 17.96875 6.59375 36.375 \nQ 6.59375 54.828125 13.0625 64.515625 \nQ 19.53125 74.21875 31.78125 74.21875 \nz\n\" id=\"DejaVuSans-48\"/>\n      </defs>\n      <g transform=\"translate(20.878125 239.037656)scale(0.1 -0.1)\">\n       <use xlink:href=\"#DejaVuSans-48\"/>\n      </g>\n     </g>\n    </g>\n    <g id=\"ytick_2\">\n     <g id=\"line2d_7\">\n      <g>\n       <use style=\"stroke:#000000;stroke-width:0.8;\" x=\"34.240625\" xlink:href=\"#m11d7616d57\" y=\"205.6497\"/>\n      </g>\n     </g>\n     <g id=\"text_7\">\n      <!-- 1 -->\n      <g transform=\"translate(20.878125 209.448919)scale(0.1 -0.1)\">\n       <use xlink:href=\"#DejaVuSans-49\"/>\n      </g>\n     </g>\n    </g>\n    <g id=\"ytick_3\">\n     <g id=\"line2d_8\">\n      <g>\n       <use style=\"stroke:#000000;stroke-width:0.8;\" x=\"34.240625\" xlink:href=\"#m11d7616d57\" y=\"176.060963\"/>\n      </g>\n     </g>\n     <g id=\"text_8\">\n      <!-- 2 -->\n      <g transform=\"translate(20.878125 179.860182)scale(0.1 -0.1)\">\n       <use xlink:href=\"#DejaVuSans-50\"/>\n      </g>\n     </g>\n    </g>\n    <g id=\"ytick_4\">\n     <g id=\"line2d_9\">\n      <g>\n       <use style=\"stroke:#000000;stroke-width:0.8;\" x=\"34.240625\" xlink:href=\"#m11d7616d57\" y=\"146.472225\"/>\n      </g>\n     </g>\n     <g id=\"text_9\">\n      <!-- 3 -->\n      <g transform=\"translate(20.878125 150.271444)scale(0.1 -0.1)\">\n       <use xlink:href=\"#DejaVuSans-51\"/>\n      </g>\n     </g>\n    </g>\n    <g id=\"ytick_5\">\n     <g id=\"line2d_10\">\n      <g>\n       <use style=\"stroke:#000000;stroke-width:0.8;\" x=\"34.240625\" xlink:href=\"#m11d7616d57\" y=\"116.883488\"/>\n      </g>\n     </g>\n     <g id=\"text_10\">\n      <!-- 4 -->\n      <g transform=\"translate(20.878125 120.682707)scale(0.1 -0.1)\">\n       <use xlink:href=\"#DejaVuSans-52\"/>\n      </g>\n     </g>\n    </g>\n    <g id=\"ytick_6\">\n     <g id=\"line2d_11\">\n      <g>\n       <use style=\"stroke:#000000;stroke-width:0.8;\" x=\"34.240625\" xlink:href=\"#m11d7616d57\" y=\"87.294751\"/>\n      </g>\n     </g>\n     <g id=\"text_11\">\n      <!-- 5 -->\n      <g transform=\"translate(20.878125 91.093969)scale(0.1 -0.1)\">\n       <use xlink:href=\"#DejaVuSans-53\"/>\n      </g>\n     </g>\n    </g>\n    <g id=\"ytick_7\">\n     <g id=\"line2d_12\">\n      <g>\n       <use style=\"stroke:#000000;stroke-width:0.8;\" x=\"34.240625\" xlink:href=\"#m11d7616d57\" y=\"57.706013\"/>\n      </g>\n     </g>\n     <g id=\"text_12\">\n      <!-- 6 -->\n      <defs>\n       <path d=\"M 33.015625 40.375 \nQ 26.375 40.375 22.484375 35.828125 \nQ 18.609375 31.296875 18.609375 23.390625 \nQ 18.609375 15.53125 22.484375 10.953125 \nQ 26.375 6.390625 33.015625 6.390625 \nQ 39.65625 6.390625 43.53125 10.953125 \nQ 47.40625 15.53125 47.40625 23.390625 \nQ 47.40625 31.296875 43.53125 35.828125 \nQ 39.65625 40.375 33.015625 40.375 \nz\nM 52.59375 71.296875 \nL 52.59375 62.3125 \nQ 48.875 64.0625 45.09375 64.984375 \nQ 41.3125 65.921875 37.59375 65.921875 \nQ 27.828125 65.921875 22.671875 59.328125 \nQ 17.53125 52.734375 16.796875 39.40625 \nQ 19.671875 43.65625 24.015625 45.921875 \nQ 28.375 48.1875 33.59375 48.1875 \nQ 44.578125 48.1875 50.953125 41.515625 \nQ 57.328125 34.859375 57.328125 23.390625 \nQ 57.328125 12.15625 50.6875 5.359375 \nQ 44.046875 -1.421875 33.015625 -1.421875 \nQ 20.359375 -1.421875 13.671875 8.265625 \nQ 6.984375 17.96875 6.984375 36.375 \nQ 6.984375 53.65625 15.1875 63.9375 \nQ 23.390625 74.21875 37.203125 74.21875 \nQ 40.921875 74.21875 44.703125 73.484375 \nQ 48.484375 72.75 52.59375 71.296875 \nz\n\" id=\"DejaVuSans-54\"/>\n      </defs>\n      <g transform=\"translate(20.878125 61.505232)scale(0.1 -0.1)\">\n       <use xlink:href=\"#DejaVuSans-54\"/>\n      </g>\n     </g>\n    </g>\n    <g id=\"ytick_8\">\n     <g id=\"line2d_13\">\n      <g>\n       <use style=\"stroke:#000000;stroke-width:0.8;\" x=\"34.240625\" xlink:href=\"#m11d7616d57\" y=\"28.117276\"/>\n      </g>\n     </g>\n     <g id=\"text_13\">\n      <!-- 7 -->\n      <defs>\n       <path d=\"M 8.203125 72.90625 \nL 55.078125 72.90625 \nL 55.078125 68.703125 \nL 28.609375 0 \nL 18.3125 0 \nL 43.21875 64.59375 \nL 8.203125 64.59375 \nz\n\" id=\"DejaVuSans-55\"/>\n      </defs>\n      <g transform=\"translate(20.878125 31.916495)scale(0.1 -0.1)\">\n       <use xlink:href=\"#DejaVuSans-55\"/>\n      </g>\n     </g>\n    </g>\n    <g id=\"text_14\">\n     <!-- Frequency -->\n     <defs>\n      <path d=\"M 9.8125 72.90625 \nL 51.703125 72.90625 \nL 51.703125 64.59375 \nL 19.671875 64.59375 \nL 19.671875 43.109375 \nL 48.578125 43.109375 \nL 48.578125 34.8125 \nL 19.671875 34.8125 \nL 19.671875 0 \nL 9.8125 0 \nz\n\" id=\"DejaVuSans-70\"/>\n      <path d=\"M 41.109375 46.296875 \nQ 39.59375 47.171875 37.8125 47.578125 \nQ 36.03125 48 33.890625 48 \nQ 26.265625 48 22.1875 43.046875 \nQ 18.109375 38.09375 18.109375 28.8125 \nL 18.109375 0 \nL 9.078125 0 \nL 9.078125 54.6875 \nL 18.109375 54.6875 \nL 18.109375 46.1875 \nQ 20.953125 51.171875 25.484375 53.578125 \nQ 30.03125 56 36.53125 56 \nQ 37.453125 56 38.578125 55.875 \nQ 39.703125 55.765625 41.0625 55.515625 \nz\n\" id=\"DejaVuSans-114\"/>\n      <path d=\"M 56.203125 29.59375 \nL 56.203125 25.203125 \nL 14.890625 25.203125 \nQ 15.484375 15.921875 20.484375 11.0625 \nQ 25.484375 6.203125 34.421875 6.203125 \nQ 39.59375 6.203125 44.453125 7.46875 \nQ 49.3125 8.734375 54.109375 11.28125 \nL 54.109375 2.78125 \nQ 49.265625 0.734375 44.1875 -0.34375 \nQ 39.109375 -1.421875 33.890625 -1.421875 \nQ 20.796875 -1.421875 13.15625 6.1875 \nQ 5.515625 13.8125 5.515625 26.8125 \nQ 5.515625 40.234375 12.765625 48.109375 \nQ 20.015625 56 32.328125 56 \nQ 43.359375 56 49.78125 48.890625 \nQ 56.203125 41.796875 56.203125 29.59375 \nz\nM 47.21875 32.234375 \nQ 47.125 39.59375 43.09375 43.984375 \nQ 39.0625 48.390625 32.421875 48.390625 \nQ 24.90625 48.390625 20.390625 44.140625 \nQ 15.875 39.890625 15.1875 32.171875 \nz\n\" id=\"DejaVuSans-101\"/>\n      <path d=\"M 14.796875 27.296875 \nQ 14.796875 17.390625 18.875 11.75 \nQ 22.953125 6.109375 30.078125 6.109375 \nQ 37.203125 6.109375 41.296875 11.75 \nQ 45.40625 17.390625 45.40625 27.296875 \nQ 45.40625 37.203125 41.296875 42.84375 \nQ 37.203125 48.484375 30.078125 48.484375 \nQ 22.953125 48.484375 18.875 42.84375 \nQ 14.796875 37.203125 14.796875 27.296875 \nz\nM 45.40625 8.203125 \nQ 42.578125 3.328125 38.25 0.953125 \nQ 33.9375 -1.421875 27.875 -1.421875 \nQ 17.96875 -1.421875 11.734375 6.484375 \nQ 5.515625 14.40625 5.515625 27.296875 \nQ 5.515625 40.1875 11.734375 48.09375 \nQ 17.96875 56 27.875 56 \nQ 33.9375 56 38.25 53.625 \nQ 42.578125 51.265625 45.40625 46.390625 \nL 45.40625 54.6875 \nL 54.390625 54.6875 \nL 54.390625 -20.796875 \nL 45.40625 -20.796875 \nz\n\" id=\"DejaVuSans-113\"/>\n      <path d=\"M 8.5 21.578125 \nL 8.5 54.6875 \nL 17.484375 54.6875 \nL 17.484375 21.921875 \nQ 17.484375 14.15625 20.5 10.265625 \nQ 23.53125 6.390625 29.59375 6.390625 \nQ 36.859375 6.390625 41.078125 11.03125 \nQ 45.3125 15.671875 45.3125 23.6875 \nL 45.3125 54.6875 \nL 54.296875 54.6875 \nL 54.296875 0 \nL 45.3125 0 \nL 45.3125 8.40625 \nQ 42.046875 3.421875 37.71875 1 \nQ 33.40625 -1.421875 27.6875 -1.421875 \nQ 18.265625 -1.421875 13.375 4.4375 \nQ 8.5 10.296875 8.5 21.578125 \nz\nM 31.109375 56 \nz\n\" id=\"DejaVuSans-117\"/>\n      <path d=\"M 54.890625 33.015625 \nL 54.890625 0 \nL 45.90625 0 \nL 45.90625 32.71875 \nQ 45.90625 40.484375 42.875 44.328125 \nQ 39.84375 48.1875 33.796875 48.1875 \nQ 26.515625 48.1875 22.3125 43.546875 \nQ 18.109375 38.921875 18.109375 30.90625 \nL 18.109375 0 \nL 9.078125 0 \nL 9.078125 54.6875 \nL 18.109375 54.6875 \nL 18.109375 46.1875 \nQ 21.34375 51.125 25.703125 53.5625 \nQ 30.078125 56 35.796875 56 \nQ 45.21875 56 50.046875 50.171875 \nQ 54.890625 44.34375 54.890625 33.015625 \nz\n\" id=\"DejaVuSans-110\"/>\n      <path d=\"M 48.78125 52.59375 \nL 48.78125 44.1875 \nQ 44.96875 46.296875 41.140625 47.34375 \nQ 37.3125 48.390625 33.40625 48.390625 \nQ 24.65625 48.390625 19.8125 42.84375 \nQ 14.984375 37.3125 14.984375 27.296875 \nQ 14.984375 17.28125 19.8125 11.734375 \nQ 24.65625 6.203125 33.40625 6.203125 \nQ 37.3125 6.203125 41.140625 7.25 \nQ 44.96875 8.296875 48.78125 10.40625 \nL 48.78125 2.09375 \nQ 45.015625 0.34375 40.984375 -0.53125 \nQ 36.96875 -1.421875 32.421875 -1.421875 \nQ 20.0625 -1.421875 12.78125 6.34375 \nQ 5.515625 14.109375 5.515625 27.296875 \nQ 5.515625 40.671875 12.859375 48.328125 \nQ 20.21875 56 33.015625 56 \nQ 37.15625 56 41.109375 55.140625 \nQ 45.0625 54.296875 48.78125 52.59375 \nz\n\" id=\"DejaVuSans-99\"/>\n      <path d=\"M 32.171875 -5.078125 \nQ 28.375 -14.84375 24.75 -17.8125 \nQ 21.140625 -20.796875 15.09375 -20.796875 \nL 7.90625 -20.796875 \nL 7.90625 -13.28125 \nL 13.1875 -13.28125 \nQ 16.890625 -13.28125 18.9375 -11.515625 \nQ 21 -9.765625 23.484375 -3.21875 \nL 25.09375 0.875 \nL 2.984375 54.6875 \nL 12.5 54.6875 \nL 29.59375 11.921875 \nL 46.6875 54.6875 \nL 56.203125 54.6875 \nz\n\" id=\"DejaVuSans-121\"/>\n     </defs>\n     <g transform=\"translate(14.798437 152.348125)rotate(-90)scale(0.1 -0.1)\">\n      <use xlink:href=\"#DejaVuSans-70\"/>\n      <use x=\"50.269531\" xlink:href=\"#DejaVuSans-114\"/>\n      <use x=\"89.132812\" xlink:href=\"#DejaVuSans-101\"/>\n      <use x=\"150.65625\" xlink:href=\"#DejaVuSans-113\"/>\n      <use x=\"214.132812\" xlink:href=\"#DejaVuSans-117\"/>\n      <use x=\"277.511719\" xlink:href=\"#DejaVuSans-101\"/>\n      <use x=\"339.035156\" xlink:href=\"#DejaVuSans-110\"/>\n      <use x=\"402.414062\" xlink:href=\"#DejaVuSans-99\"/>\n      <use x=\"457.394531\" xlink:href=\"#DejaVuSans-121\"/>\n     </g>\n    </g>\n    <g id=\"text_15\">\n     <!-- 1e6 -->\n     <g transform=\"translate(34.240625 14.798437)scale(0.1 -0.1)\">\n      <use xlink:href=\"#DejaVuSans-49\"/>\n      <use x=\"63.623047\" xlink:href=\"#DejaVuSans-101\"/>\n      <use x=\"125.146484\" xlink:href=\"#DejaVuSans-54\"/>\n     </g>\n    </g>\n   </g>\n   <g id=\"patch_13\">\n    <path d=\"M 34.240625 235.238437 \nL 34.240625 17.798437 \n\" style=\"fill:none;stroke:#000000;stroke-linecap:square;stroke-linejoin:miter;stroke-width:0.8;\"/>\n   </g>\n   <g id=\"patch_14\">\n    <path d=\"M 369.040625 235.238437 \nL 369.040625 17.798437 \n\" style=\"fill:none;stroke:#000000;stroke-linecap:square;stroke-linejoin:miter;stroke-width:0.8;\"/>\n   </g>\n   <g id=\"patch_15\">\n    <path d=\"M 34.240625 235.238437 \nL 369.040625 235.238437 \n\" style=\"fill:none;stroke:#000000;stroke-linecap:square;stroke-linejoin:miter;stroke-width:0.8;\"/>\n   </g>\n   <g id=\"patch_16\">\n    <path d=\"M 34.240625 17.798437 \nL 369.040625 17.798437 \n\" style=\"fill:none;stroke:#000000;stroke-linecap:square;stroke-linejoin:miter;stroke-width:0.8;\"/>\n   </g>\n  </g>\n </g>\n <defs>\n  <clipPath id=\"p52d1ee0704\">\n   <rect height=\"217.44\" width=\"334.8\" x=\"34.240625\" y=\"17.798437\"/>\n  </clipPath>\n </defs>\n</svg>\n",
      "image/png": "[encoded data removed]"
     },
     "metadata": {
      "needs_background": "light"
     }
    }
   ],
   "source": [
    "ratings['rating'].plot(kind='hist')\n",
    "ratings['rating'].describe()"
   ]
  },
  {
   "cell_type": "code",
   "execution_count": null,
   "metadata": {},
   "outputs": [],
   "source": []
  }
 ]
}